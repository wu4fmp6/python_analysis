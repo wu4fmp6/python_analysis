{
 "cells": [
  {
   "cell_type": "code",
   "execution_count": 2,
   "metadata": {},
   "outputs": [
    {
     "name": "stdout",
     "output_type": "stream",
     "text": [
      "YouBike即時資訊下載完成！\n"
     ]
    }
   ],
   "source": [
    "import requests\n",
    "\n",
    "url = 'https://tcgbusfs.blob.core.windows.net/dotapp/youbike/v2/youbike_immediate.json'\n",
    "\n",
    "try:\n",
    "    response = requests.get(url)\n",
    "    response.raise_for_status()  # 檢查HTTP狀態碼，確保請求成功\n",
    "\n",
    "    data = response.json()  # 將JSON格式的資料轉換為Python字典\n",
    "\n",
    "    print('YouBike即時資訊下載完成！')\n",
    "\n",
    "except requests.exceptions.RequestException as e:\n",
    "    print(f'下載YouBike即時資訊時發生錯誤：{e}')\n"
   ]
  },
  {
   "cell_type": "code",
   "execution_count": null,
   "metadata": {},
   "outputs": [],
   "source": [
    "for site in data:\n",
    "   if site['available_rent_bikes'] == 0:\n",
    "      print(site)"
   ]
  },
  {
   "cell_type": "code",
   "execution_count": null,
   "metadata": {},
   "outputs": [],
   "source": [
    "def filter_func(n:dict):\n",
    "    return n['available_rent_bikes'] == 0\n",
    "\n",
    "zero_bike_rant = list(filter(filter_func,data))\n",
    "print(len(zero_bike_rant))\n",
    "for site in zero_bike_rant:\n",
    "    print(site['sna'])"
   ]
  },
  {
   "cell_type": "code",
   "execution_count": 4,
   "metadata": {},
   "outputs": [
    {
     "name": "stdout",
     "output_type": "stream",
     "text": [
      "{'sno': '500101006', 'sna': 'YouBike2.0_復興南路二段280號前', 'sarea': '大安區', 'mday': '2025-02-18 20:08:17', 'ar': '復興南路二段280號', 'sareaen': 'Daan Dist.', 'snaen': 'YouBike2.0_No. 280， Sec. 2， Fuxing S. Rd.', 'aren': 'No. 280， Sec. 2， Fuxing S. Rd.', 'act': '1', 'srcUpdateTime': '2025-02-18 20:08:21', 'updateTime': '2025-02-18 20:08:52', 'infoTime': '2025-02-18 20:08:17', 'infoDate': '2025-02-18', 'total': 27, 'available_rent_bikes': 27, 'latitude': 25.02429, 'longitude': 121.54328, 'available_return_bikes': 0}\n",
      "{'sno': '500101008', 'sna': 'YouBike2.0_新生南路三段52號前', 'sarea': '大安區', 'mday': '2025-02-18 20:06:14', 'ar': '新生南路三段52號', 'sareaen': 'Daan Dist.', 'snaen': 'YouBike2.0_No. 52， Sec. 3， Xinsheng S. Rd.', 'aren': 'No. 52， Sec. 3， Xinsheng S. Rd.', 'act': '1', 'srcUpdateTime': '2025-02-18 20:08:21', 'updateTime': '2025-02-18 20:08:52', 'infoTime': '2025-02-18 20:06:14', 'infoDate': '2025-02-18', 'total': 17, 'available_rent_bikes': 17, 'latitude': 25.02112, 'longitude': 121.53407, 'available_return_bikes': 0}\n",
      "{'sno': '500101012', 'sna': 'YouBike2.0_辛亥路一段30號前', 'sarea': '大安區', 'mday': '2025-02-18 20:07:15', 'ar': '辛亥路一段30號', 'sareaen': 'Daan Dist.', 'snaen': 'YouBike2.0_No. 30， Sec. 1， Xinhai Rd.', 'aren': 'No. 30， Sec. 1， Xinhai Rd.', 'act': '1', 'srcUpdateTime': '2025-02-18 20:08:21', 'updateTime': '2025-02-18 20:08:52', 'infoTime': '2025-02-18 20:07:15', 'infoDate': '2025-02-18', 'total': 8, 'available_rent_bikes': 8, 'latitude': 25.01986, 'longitude': 121.52982, 'available_return_bikes': 0}\n",
      "{'sno': '500101013', 'sna': 'YouBike2.0_和平復興路口西北側', 'sarea': '大安區', 'mday': '2025-02-18 20:08:15', 'ar': '復興南路二段236號', 'sareaen': 'Daan Dist.', 'snaen': 'YouBike2.0_Heping Fuxing Rd. Intersection (Northwest)', 'aren': 'No. 236， Sec. 2， Fuxing S. Rd.', 'act': '1', 'srcUpdateTime': '2025-02-18 20:08:21', 'updateTime': '2025-02-18 20:08:52', 'infoTime': '2025-02-18 20:08:15', 'infoDate': '2025-02-18', 'total': 9, 'available_rent_bikes': 9, 'latitude': 25.02543, 'longitude': 121.54332, 'available_return_bikes': 0}\n",
      "{'sno': '500101016', 'sna': 'YouBike2.0_羅斯福路三段245號前', 'sarea': '大安區', 'mday': '2025-02-18 20:07:18', 'ar': '羅斯福路三段245號', 'sareaen': 'Daan Dist.', 'snaen': 'YouBike2.0_No. 245， Sec. 3， Roosevelt Rd.', 'aren': 'No. 245， Sec. 3， Roosevelt Rd.', 'act': '1', 'srcUpdateTime': '2025-02-18 20:08:21', 'updateTime': '2025-02-18 20:08:52', 'infoTime': '2025-02-18 20:07:18', 'infoDate': '2025-02-18', 'total': 8, 'available_rent_bikes': 8, 'latitude': 25.01927, 'longitude': 121.52989, 'available_return_bikes': 0}\n",
      "{'sno': '500101149', 'sna': 'YouBike2.0_捷運忠孝新生站(6號出口)', 'sarea': '大安區', 'mday': '2025-02-18 19:40:15', 'ar': '新生南路一段101號', 'sareaen': 'Daan Dist.', 'snaen': 'YouBike2.0_MRT Zhongxiao Xinsheng Sta. (Exit 6)', 'aren': 'No. 101， Sec. 1， Xinsheng S. Rd.', 'act': '1', 'srcUpdateTime': '2025-02-18 20:08:21', 'updateTime': '2025-02-18 20:08:52', 'infoTime': '2025-02-18 19:40:15', 'infoDate': '2025-02-18', 'total': 15, 'available_rent_bikes': 15, 'latitude': 25.04091, 'longitude': 121.53295, 'available_return_bikes': 0}\n",
      "{'sno': '500101151', 'sna': 'YouBike2.0_大安高工', 'sarea': '大安區', 'mday': '2025-02-18 20:07:18', 'ar': '復興南路二段52號(前)', 'sareaen': 'Daan Dist.', 'snaen': 'YouBike2.0_Daan Vocational High School', 'aren': 'No. 52， Sec. 2， Fuxing S. Rd.', 'act': '1', 'srcUpdateTime': '2025-02-18 20:08:21', 'updateTime': '2025-02-18 20:08:52', 'infoTime': '2025-02-18 20:07:18', 'infoDate': '2025-02-18', 'total': 23, 'available_rent_bikes': 23, 'latitude': 25.03126, 'longitude': 121.54339, 'available_return_bikes': 0}\n",
      "{'sno': '500101160', 'sna': 'YouBike2.0_捷運忠孝敦化站(2號出口)', 'sarea': '大安區', 'mday': '2025-02-18 20:04:14', 'ar': '忠孝東路四段221號', 'sareaen': 'Daan Dist.', 'snaen': 'YouBike2.0_MRT Zhongxiao Dunhua Sta. (Exit 2)', 'aren': 'No. 221， Sec. 4， Zhongxiao E. Rd.', 'act': '1', 'srcUpdateTime': '2025-02-18 20:08:21', 'updateTime': '2025-02-18 20:08:52', 'infoTime': '2025-02-18 20:04:14', 'infoDate': '2025-02-18', 'total': 17, 'available_rent_bikes': 17, 'latitude': 25.04153, 'longitude': 121.5524, 'available_return_bikes': 0}\n",
      "{'sno': '500101224', 'sna': 'YouBike2.0_羅斯福浦城街口', 'sarea': '大安區', 'mday': '2025-02-18 19:56:15', 'ar': '羅斯福路三段117號前', 'sareaen': 'Daan Dist.', 'snaen': 'YouBike2.0_Roosevelt Rd. & Pucheng St. Intersection', 'aren': 'No. 117， Sec. 3， Roosevelt Rd.', 'act': '1', 'srcUpdateTime': '2025-02-18 20:08:21', 'updateTime': '2025-02-18 20:08:52', 'infoTime': '2025-02-18 19:56:15', 'infoDate': '2025-02-18', 'total': 15, 'available_rent_bikes': 14, 'latitude': 25.02208, 'longitude': 121.52678, 'available_return_bikes': 0}\n",
      "{'sno': '500101230', 'sna': 'YouBike2.0_安和路二段69巷口', 'sarea': '大安區', 'mday': '2025-02-18 20:08:15', 'ar': '安和路二段/安和路二段69巷', 'sareaen': 'Daan Dist.', 'snaen': 'YouBike2.0_Ln. 69， Sec. 2， Anhe Rd.', 'aren': 'Sec. 2， Anhe Rd. & Ln. 69， Sec. 2， Anhe Rd. Intersection', 'act': '1', 'srcUpdateTime': '2025-02-18 20:08:21', 'updateTime': '2025-02-18 20:08:52', 'infoTime': '2025-02-18 20:08:15', 'infoDate': '2025-02-18', 'total': 20, 'available_rent_bikes': 20, 'latitude': 25.03056, 'longitude': 121.55252, 'available_return_bikes': 0}\n",
      "{'sno': '500101232', 'sna': 'YouBike2.0_捷運古亭站(3號出口)', 'sarea': '大安區', 'mday': '2025-02-18 20:07:18', 'ar': '羅斯福路二段81-1號前', 'sareaen': 'Daan Dist.', 'snaen': 'YouBike2.0_MRT Guting Sta. (Exit 3)', 'aren': 'No. 81-1， Sec. 2， Roosevelt Rd.', 'act': '1', 'srcUpdateTime': '2025-02-18 20:08:21', 'updateTime': '2025-02-18 20:08:52', 'infoTime': '2025-02-18 20:07:18', 'infoDate': '2025-02-18', 'total': 15, 'available_rent_bikes': 15, 'latitude': 25.02572, 'longitude': 121.52359, 'available_return_bikes': 0}\n",
      "{'sno': '500101239', 'sna': 'YouBike2.0_古風公園', 'sarea': '大安區', 'mday': '2025-02-18 19:49:15', 'ar': '龍泉街93巷7號對側', 'sareaen': 'Daan Dist.', 'snaen': 'YouBike2.0_GuFeng Park', 'aren': 'No. 7， Ln. 93， LongQuan St. (Opposite)', 'act': '1', 'srcUpdateTime': '2025-02-18 20:08:21', 'updateTime': '2025-02-18 20:08:52', 'infoTime': '2025-02-18 19:49:15', 'infoDate': '2025-02-18', 'total': 15, 'available_rent_bikes': 15, 'latitude': 25.02187, 'longitude': 121.52912, 'available_return_bikes': 0}\n",
      "{'sno': '500101244', 'sna': 'YouBike2.0_浦城街26巷', 'sarea': '大安區', 'mday': '2025-02-18 19:57:15', 'ar': '浦城街26巷8號對面', 'sareaen': 'Daan Dist.', 'snaen': 'YouBike2.0_Ln. 26， PuCheng St.', 'aren': 'No. 8， Ln. 26， PuCheng St. (Opposite)', 'act': '1', 'srcUpdateTime': '2025-02-18 20:08:21', 'updateTime': '2025-02-18 20:08:52', 'infoTime': '2025-02-18 19:57:15', 'infoDate': '2025-02-18', 'total': 17, 'available_rent_bikes': 17, 'latitude': 25.02324, 'longitude': 121.52618, 'available_return_bikes': 0}\n",
      "{'sno': '500103042', 'sna': 'YouBike2.0_大同運動中心', 'sarea': '大同區', 'mday': '2025-02-18 19:58:14', 'ar': '大龍街51號(旁)', 'sareaen': 'Datong Dist', 'snaen': 'YouBike2.0_Taipei DaTong Sports Center', 'aren': 'No. 51， Dalong St.', 'act': '1', 'srcUpdateTime': '2025-02-18 20:08:21', 'updateTime': '2025-02-18 20:08:52', 'infoTime': '2025-02-18 19:58:14', 'infoDate': '2025-02-18', 'total': 16, 'available_rent_bikes': 16, 'latitude': 25.06496, 'longitude': 121.51608, 'available_return_bikes': 0}\n",
      "{'sno': '500103057', 'sna': 'YouBike2.0_捷運圓山站(2號出口)', 'sarea': '大同區', 'mday': '2025-02-17 08:20:17', 'ar': '承德路三段/庫倫街(東南側)', 'sareaen': 'Datong Dist', 'snaen': 'YouBike2.0_MRT Yuanshan Sta. (Exit 2)', 'aren': 'Sec. 3， Chengde Rd. & Kulun St. Intersection (Southeast)', 'act': '0', 'srcUpdateTime': '2025-02-18 20:08:21', 'updateTime': '2025-02-18 20:08:52', 'infoTime': '2025-02-17 08:20:17', 'infoDate': '2025-02-17', 'total': 37, 'available_rent_bikes': 0, 'latitude': 25.07182, 'longitude': 121.51929, 'available_return_bikes': 0}\n",
      "{'sno': '500104056', 'sna': 'YouBike2.0_社正公園', 'sarea': '士林區', 'mday': '2025-02-18 19:42:15', 'ar': '社中街39號(對面)', 'sareaen': 'Shilin Dist', 'snaen': 'YouBike2.0_Shezheng Park', 'aren': 'No. 39， Shezhong St. (Opposite)', 'act': '1', 'srcUpdateTime': '2025-02-18 20:08:21', 'updateTime': '2025-02-18 20:08:52', 'infoTime': '2025-02-18 19:42:15', 'infoDate': '2025-02-18', 'total': 15, 'available_rent_bikes': 15, 'latitude': 25.08824, 'longitude': 121.51054, 'available_return_bikes': 0}\n",
      "{'sno': '500104078', 'sna': 'YouBike2.0_市立圖書館葫蘆堵分館', 'sarea': '士林區', 'mday': '2025-02-18 20:01:15', 'ar': '延平北路五段136巷1號前', 'sareaen': 'Shilin Dist', 'snaen': 'YouBike2.0_Taipei Public Library Huludu Branch', 'aren': 'No. 1， Ln. 136， Sec. 5， Yanping N. Rd.', 'act': '1', 'srcUpdateTime': '2025-02-18 20:08:21', 'updateTime': '2025-02-18 20:08:52', 'infoTime': '2025-02-18 20:01:15', 'infoDate': '2025-02-18', 'total': 13, 'available_rent_bikes': 13, 'latitude': 25.08217, 'longitude': 121.51074, 'available_return_bikes': 0}\n",
      "{'sno': '500104080', 'sna': 'YouBike2.0_永平社會住宅', 'sarea': '士林區', 'mday': '2025-02-18 19:12:14', 'ar': '環河北路三段261巷2號', 'sareaen': 'Shilin Dist', 'snaen': 'YouBike2.0_Yongping Social Housing', 'aren': 'No. 2， Ln. 261， Sec. 3， Huanhe N. Rd.', 'act': '1', 'srcUpdateTime': '2025-02-18 20:08:21', 'updateTime': '2025-02-18 20:08:52', 'infoTime': '2025-02-18 19:12:14', 'infoDate': '2025-02-18', 'total': 15, 'available_rent_bikes': 15, 'latitude': 25.08887, 'longitude': 121.50314, 'available_return_bikes': 0}\n",
      "{'sno': '500104084', 'sna': 'YouBike2.0_至誠雨聲街口', 'sarea': '士林區', 'mday': '2025-02-18 19:45:14', 'ar': '至誠路二段與雨聲街口東北側', 'sareaen': 'Shilin Dist', 'snaen': 'YouBike2.0_Zhicheng Rd. & Yusheng St. Intersection', 'aren': 'Sec. 2， Zhicheng Rd. & Yusheng St. Intersection (Northeast)', 'act': '1', 'srcUpdateTime': '2025-02-18 20:08:21', 'updateTime': '2025-02-18 20:08:52', 'infoTime': '2025-02-18 19:45:14', 'infoDate': '2025-02-18', 'total': 9, 'available_rent_bikes': 9, 'latitude': 25.10199, 'longitude': 121.52927, 'available_return_bikes': 0}\n",
      "{'sno': '500104111', 'sna': 'YouBike2.0_士商路40巷口', 'sarea': '士林區', 'mday': '2025-02-18 19:56:15', 'ar': '士商路40巷2號旁', 'sareaen': 'Shilin Dist', 'snaen': 'YouBike2.0_Ln. 40， Shishang Rd.', 'aren': 'No. 2， Ln. 40， Shishang Rd.', 'act': '1', 'srcUpdateTime': '2025-02-18 20:08:21', 'updateTime': '2025-02-18 20:08:52', 'infoTime': '2025-02-18 19:56:15', 'infoDate': '2025-02-18', 'total': 15, 'available_rent_bikes': 9, 'latitude': 25.09013, 'longitude': 121.52054, 'available_return_bikes': 0}\n",
      "{'sno': '500104133', 'sna': 'YouBike2.0_福林路255巷口', 'sarea': '士林區', 'mday': '2025-02-18 19:36:14', 'ar': '福林路255巷口', 'sareaen': 'Shilin Dist', 'snaen': 'YouBike2.0_Ln. 255， FuLin Rd.', 'aren': '福林路259號(前)', 'act': '1', 'srcUpdateTime': '2025-02-18 20:08:21', 'updateTime': '2025-02-18 20:08:52', 'infoTime': '2025-02-18 19:36:14', 'infoDate': '2025-02-18', 'total': 18, 'available_rent_bikes': 18, 'latitude': 25.09854, 'longitude': 121.53528, 'available_return_bikes': 0}\n",
      "{'sno': '500105043', 'sna': 'YouBike2.0_木柵社會住宅', 'sarea': '文山區', 'mday': '2025-02-18 20:04:16', 'ar': '久康街24巷46號對側', 'sareaen': 'Wenshan Dist', 'snaen': 'YouBike2.0_Muzha Social Housing', 'aren': 'No. 46， Ln. 24， Jiukang St. (Opposite)', 'act': '1', 'srcUpdateTime': '2025-02-18 20:08:21', 'updateTime': '2025-02-18 20:08:52', 'infoTime': '2025-02-18 20:04:16', 'infoDate': '2025-02-18', 'total': 12, 'available_rent_bikes': 12, 'latitude': 24.98935, 'longitude': 121.56651, 'available_return_bikes': 0}\n",
      "{'sno': '500105047', 'sna': 'YouBike2.0_萬有3號公園', 'sarea': '文山區', 'mday': '2025-02-18 19:56:15', 'ar': '景隆街105號(對面)', 'sareaen': 'Wenshan Dist', 'snaen': 'YouBike2.0_Wan You NO.3 Park', 'aren': 'No. 105， Jinglong St. (Opposite)', 'act': '1', 'srcUpdateTime': '2025-02-18 20:08:21', 'updateTime': '2025-02-18 20:08:52', 'infoTime': '2025-02-18 19:56:15', 'infoDate': '2025-02-18', 'total': 14, 'available_rent_bikes': 14, 'latitude': 24.99889, 'longitude': 121.5433, 'available_return_bikes': 0}\n",
      "{'sno': '500106005', 'sna': 'YouBike2.0_捷運古亭站(9號出口)', 'sarea': '中正區', 'mday': '2025-02-14 08:45:17', 'ar': '羅斯福路二段100號(前方)', 'sareaen': 'Zhongzheng Dist', 'snaen': 'YouBike2.0_MRT Guting Sta. (Exit 9)', 'aren': 'No. 100， Sec. 2， Roosevelt Rd', 'act': '0', 'srcUpdateTime': '2025-02-18 20:08:21', 'updateTime': '2025-02-18 20:08:52', 'infoTime': '2025-02-14 08:45:17', 'infoDate': '2025-02-14', 'total': 20, 'available_rent_bikes': 0, 'latitude': 25.02694, 'longitude': 121.52224, 'available_return_bikes': 0}\n",
      "{'sno': '500106012', 'sna': 'YouBike2.0_捷運臺電大樓站(4號出口)', 'sarea': '中正區', 'mday': '2025-02-18 20:07:18', 'ar': '師大路/羅斯福路三段西側', 'sareaen': 'Zhongzheng Dist', 'snaen': 'YouBike2.0_MRT Taipower Building Sta. (Exit 4)', 'aren': 'Shida Rd & Sec. 3， Roosevelt Rd (West)', 'act': '1', 'srcUpdateTime': '2025-02-18 20:08:21', 'updateTime': '2025-02-18 20:08:52', 'infoTime': '2025-02-18 20:07:18', 'infoDate': '2025-02-18', 'total': 13, 'available_rent_bikes': 13, 'latitude': 25.02102, 'longitude': 121.52751, 'available_return_bikes': 0}\n",
      "{'sno': '500106013', 'sna': 'YouBike2.0_羅斯福三段金門街口', 'sarea': '中正區', 'mday': '2025-02-18 20:08:15', 'ar': '羅斯福路三段2號前', 'sareaen': 'Zhongzheng Dist', 'snaen': 'YouBike2.0_Sec. 3， Roosevelt Rd & Jinmen St Intersection', 'aren': 'No. 2， Sec. 3， Roosevelt Rd Intersection', 'act': '1', 'srcUpdateTime': '2025-02-18 20:08:21', 'updateTime': '2025-02-18 20:08:52', 'infoTime': '2025-02-18 20:08:15', 'infoDate': '2025-02-18', 'total': 15, 'available_rent_bikes': 15, 'latitude': 25.02345, 'longitude': 121.52498, 'available_return_bikes': 0}\n",
      "{'sno': '500106027', 'sna': 'YouBike2.0_永昌公園', 'sarea': '中正區', 'mday': '2025-02-18 19:53:14', 'ar': '詔安街224號前', 'sareaen': 'Zhongzheng Dist', 'snaen': 'YouBike2.0_Yongchang Park', 'aren': \"No. 224， Zhao'an St.\", 'act': '1', 'srcUpdateTime': '2025-02-18 20:08:21', 'updateTime': '2025-02-18 20:08:52', 'infoTime': '2025-02-18 19:53:14', 'infoDate': '2025-02-18', 'total': 15, 'available_rent_bikes': 15, 'latitude': 25.02643, 'longitude': 121.50936, 'available_return_bikes': 0}\n",
      "{'sno': '500106093', 'sna': 'YouBike2.0_仁愛金山路口', 'sarea': '中正區', 'mday': '2025-02-18 20:00:17', 'ar': '仁愛路二段31號前', 'sareaen': 'Zhongzheng Dist', 'snaen': \"YouBike2.0_Ren'ai Rd. & Jinshan Rd. Intersection\", 'aren': \"No. 31， Sec. 2， Ren'ai Rd.\", 'act': '1', 'srcUpdateTime': '2025-02-18 20:08:21', 'updateTime': '2025-02-18 20:08:52', 'infoTime': '2025-02-18 20:00:17', 'infoDate': '2025-02-18', 'total': 9, 'available_rent_bikes': 9, 'latitude': 25.0384, 'longitude': 121.52801, 'available_return_bikes': 0}\n",
      "{'sno': '500106103', 'sna': 'YouBike2.0_捷運忠孝新生站(5號出口)', 'sarea': '中正區', 'mday': '2025-02-18 20:07:18', 'ar': '新生南路一段56號前方', 'sareaen': 'Zhongzheng Dist', 'snaen': 'YouBike2.0_MRT Zhongxiao Xinsheng Sta.(Exit.5)', 'aren': 'No. 56， Sec. 1， Xinsheng S. Rd.', 'act': '1', 'srcUpdateTime': '2025-02-18 20:08:21', 'updateTime': '2025-02-18 20:08:52', 'infoTime': '2025-02-18 20:07:18', 'infoDate': '2025-02-18', 'total': 13, 'available_rent_bikes': 13, 'latitude': 25.04113, 'longitude': 121.53273, 'available_return_bikes': 0}\n",
      "{'sno': '500106124', 'sna': 'YouBike2.0_幸安市場', 'sarea': '中正區', 'mday': '2025-02-18 20:04:16', 'ar': '濟南路二段55號', 'sareaen': 'Zhongzheng Dist', 'snaen': 'YouBike2.0_Xingan Market', 'aren': 'No. 55， Sec. 2， Jinan Rd.', 'act': '1', 'srcUpdateTime': '2025-02-18 20:08:21', 'updateTime': '2025-02-18 20:08:52', 'infoTime': '2025-02-18 20:04:16', 'infoDate': '2025-02-18', 'total': 15, 'available_rent_bikes': 15, 'latitude': 25.04032, 'longitude': 121.53141, 'available_return_bikes': 0}\n",
      "{'sno': '500107030', 'sna': 'YouBike2.0_中吉公園', 'sarea': '中山區', 'mday': '2025-02-18 19:58:14', 'ar': '松江路170巷20號對側', 'sareaen': 'Zhongshan Dist', 'snaen': 'YouBike2.0_Zhongji Park', 'aren': 'No. 22， Ln. 170， Songjiang Rd， (Opposite)', 'act': '1', 'srcUpdateTime': '2025-02-18 20:08:21', 'updateTime': '2025-02-18 20:08:52', 'infoTime': '2025-02-18 19:58:14', 'infoDate': '2025-02-18', 'total': 15, 'available_rent_bikes': 15, 'latitude': 25.05604, 'longitude': 121.53166, 'available_return_bikes': 0}\n",
      "{'sno': '500107088', 'sna': 'YouBike2.0_南京伊通街口', 'sarea': '中山區', 'mday': '2025-02-18 19:58:14', 'ar': '南京東路二段178-1號', 'sareaen': 'Zhongshan Dist', 'snaen': 'YouBike2.0_Nanjing Rd. & Yitong St. Intersection', 'aren': 'No. 178-1， Sec. 2， Nanjing E. Rd.', 'act': '1', 'srcUpdateTime': '2025-02-18 20:08:21', 'updateTime': '2025-02-18 20:08:52', 'infoTime': '2025-02-18 19:58:14', 'infoDate': '2025-02-18', 'total': 11, 'available_rent_bikes': 10, 'latitude': 25.05189, 'longitude': 121.53517, 'available_return_bikes': 0}\n",
      "{'sno': '500107110', 'sna': 'YouBike2.0_民權吉林路口(南側)', 'sarea': '中山區', 'mday': '2025-02-18 20:07:15', 'ar': '民權東路二段46號前', 'sareaen': 'Zhongshan Dist', 'snaen': 'YouBike2.0_Minquan Rd. & Jilin Rd. Intersection', 'aren': 'No. 46， Sec. 2， Minquan E. Rd.', 'act': '1', 'srcUpdateTime': '2025-02-18 20:08:21', 'updateTime': '2025-02-18 20:08:52', 'infoTime': '2025-02-18 20:07:15', 'infoDate': '2025-02-18', 'total': 16, 'available_rent_bikes': 15, 'latitude': 25.06245, 'longitude': 121.53043, 'available_return_bikes': 0}\n",
      "{'sno': '500107172', 'sna': 'YouBike2.0_朱昌公園', 'sarea': '中山區', 'mday': '2025-02-18 20:01:15', 'ar': '合江街27號對側', 'sareaen': 'Zhongshan Dist', 'snaen': 'YouBike2.0_Zhuchang Park', 'aren': 'No. 27， HeJiang St. (Opposite)', 'act': '1', 'srcUpdateTime': '2025-02-18 20:08:21', 'updateTime': '2025-02-18 20:08:52', 'infoTime': '2025-02-18 20:01:15', 'infoDate': '2025-02-18', 'total': 20, 'available_rent_bikes': 20, 'latitude': 25.0554, 'longitude': 121.53908, 'available_return_bikes': 0}\n",
      "{'sno': '500109009', 'sna': 'YouBike2.0_關渡醫院', 'sarea': '北投區', 'mday': '2025-02-18 19:59:14', 'ar': '知行路235巷7號(對面)', 'sareaen': 'Beitou Dist', 'snaen': 'YouBike2.0_Taipei Guandu hospital', 'aren': 'No. 7， Ln. 235， Zhixing Rd. (Opposite)', 'act': '1', 'srcUpdateTime': '2025-02-18 20:08:21', 'updateTime': '2025-02-18 20:08:52', 'infoTime': '2025-02-18 19:59:14', 'infoDate': '2025-02-18', 'total': 14, 'available_rent_bikes': 14, 'latitude': 25.1203, 'longitude': 121.4665, 'available_return_bikes': 0}\n",
      "{'sno': '500109098', 'sna': 'YouBike2.0_北投新興公園', 'sarea': '北投區', 'mday': '2025-02-18 19:23:15', 'ar': '新興路/崗山路', 'sareaen': 'Beitou Dist', 'snaen': 'YouBike2.0_ShinShing Park', 'aren': 'XinXing Rd. & GangShan Rd. Intersection', 'act': '1', 'srcUpdateTime': '2025-02-18 20:08:21', 'updateTime': '2025-02-18 20:08:52', 'infoTime': '2025-02-18 19:23:15', 'infoDate': '2025-02-18', 'total': 15, 'available_rent_bikes': 15, 'latitude': 25.13997, 'longitude': 121.48711, 'available_return_bikes': 0}\n",
      "{'sno': '500110047', 'sna': 'YouBike2.0_捷運小巨蛋站(5號出口)', 'sarea': '松山區', 'mday': '2025-02-18 20:01:15', 'ar': '南京東路四段75-1號前', 'sareaen': 'Songshan Dist', 'snaen': 'YouBike2.0_MRT Taipei Arena Sta. (Exit.5)', 'aren': 'No. 75-1， Sec. 4， Nanjing E. Rd.', 'act': '1', 'srcUpdateTime': '2025-02-18 20:08:21', 'updateTime': '2025-02-18 20:08:52', 'infoTime': '2025-02-18 20:01:15', 'infoDate': '2025-02-18', 'total': 22, 'available_rent_bikes': 22, 'latitude': 25.05176, 'longitude': 121.55352, 'available_return_bikes': 0}\n",
      "{'sno': '500110076', 'sna': 'YouBike2.0_市民延吉街口', 'sarea': '松山區', 'mday': '2025-02-18 20:08:15', 'ar': '市民大道/延吉街(市民大道橋下空地)', 'sareaen': 'Songshan Dist', 'snaen': 'YouBike2.0_Civic Blvd. & Yanji St. Intersection', 'aren': 'Civic Blvd. & Yanji St. Intersection (Under Bridge)', 'act': '1', 'srcUpdateTime': '2025-02-18 20:08:21', 'updateTime': '2025-02-18 20:08:52', 'infoTime': '2025-02-18 20:08:15', 'infoDate': '2025-02-18', 'total': 30, 'available_rent_bikes': 30, 'latitude': 25.0444, 'longitude': 121.55397, 'available_return_bikes': 0}\n",
      "{'sno': '500111001', 'sna': 'YouBike2.0_南港公園(東新街)', 'sarea': '南港區', 'mday': '2025-02-18 18:46:15', 'ar': '東新街170巷1號西南側', 'sareaen': 'Nangang Dist', 'snaen': 'YouBike2.0_Nangang Park (Dongxin St)', 'aren': 'No. 1， Ln. 170， Dongxin St. Southwest)', 'act': '1', 'srcUpdateTime': '2025-02-18 20:08:21', 'updateTime': '2025-02-18 20:08:52', 'infoTime': '2025-02-18 18:46:15', 'infoDate': '2025-02-18', 'total': 25, 'available_rent_bikes': 25, 'latitude': 25.04591, 'longitude': 121.59226, 'available_return_bikes': 0}\n",
      "{'sno': '500111045', 'sna': 'YouBike2.0_八德中坡路口', 'sarea': '南港區', 'mday': '2025-02-18 19:38:14', 'ar': '八德路四段873號', 'sareaen': 'Nangang Dist', 'snaen': 'YouBike2.0_Bade Rd. & Zhongpo Rd. Intersection', 'aren': 'No. 873， Sec. 4， Bade Rd.', 'act': '1', 'srcUpdateTime': '2025-02-18 20:08:21', 'updateTime': '2025-02-18 20:08:52', 'infoTime': '2025-02-18 19:38:14', 'infoDate': '2025-02-18', 'total': 40, 'available_rent_bikes': 40, 'latitude': 25.05064, 'longitude': 121.5803, 'available_return_bikes': 0}\n",
      "{'sno': '500111058', 'sna': 'YouBike2.0_舊莊國小(舊莊街一段)', 'sarea': '南港區', 'mday': '2025-02-18 19:50:16', 'ar': '舊莊街一段/舊莊街一段145巷口', 'sareaen': 'Nangang Dist', 'snaen': 'YouBike2.0_JiuZhuang Elementary School(Sec. 1， Jiuzong Rd.)', 'aren': 'Sec. 1， Jiuzong Rd. & Ln. 145， Sec. 1， Jiuzong Rd. Intersection', 'act': '1', 'srcUpdateTime': '2025-02-18 20:08:21', 'updateTime': '2025-02-18 20:08:52', 'infoTime': '2025-02-18 19:50:16', 'infoDate': '2025-02-18', 'total': 18, 'available_rent_bikes': 17, 'latitude': 25.03987, 'longitude': 121.62015, 'available_return_bikes': 0}\n",
      "{'sno': '500111059', 'sna': 'YouBike2.0_向陽公園', 'sarea': '南港區', 'mday': '2025-02-18 19:54:16', 'ar': '成功路一段76號對側', 'sareaen': 'Nangang Dist', 'snaen': 'YouBike2.0_Siangyang Greens', 'aren': 'No. 76， Sec. 1， Chenggong Rd. (Opposite)', 'act': '1', 'srcUpdateTime': '2025-02-18 20:08:21', 'updateTime': '2025-02-18 20:08:52', 'infoTime': '2025-02-18 19:54:16', 'infoDate': '2025-02-18', 'total': 17, 'available_rent_bikes': 17, 'latitude': 25.05705, 'longitude': 121.59265, 'available_return_bikes': 0}\n",
      "{'sno': '500111080', 'sna': 'YouBike2.0_忠孝東路六段278巷口', 'sarea': '南港區', 'mday': '2025-02-18 19:55:17', 'ar': '忠孝東路/忠孝東路六段278巷', 'sareaen': 'Nangang Dist', 'snaen': 'YouBike2.0_Ln. 278， Sec. 6， Zhongxiao E. Rd.', 'aren': 'Zhongxiao E. Rd. & Ln. 278， Sec. 6， Zhongxiao E. Rd. Intersection', 'act': '1', 'srcUpdateTime': '2025-02-18 20:08:21', 'updateTime': '2025-02-18 20:08:52', 'infoTime': '2025-02-18 19:55:17', 'infoDate': '2025-02-18', 'total': 14, 'available_rent_bikes': 14, 'latitude': 25.04916, 'longitude': 121.58906, 'available_return_bikes': 0}\n",
      "{'sno': '500112021', 'sna': 'YouBike2.0_光復信義路口東南側', 'sarea': '信義區', 'mday': '2024-12-10 09:04:14', 'ar': '光復南路485號前方', 'sareaen': 'Xinyi Dist', 'snaen': 'YouBike2.0_Guangfu S. Rd & Sec. 4， Xinyi Rd Intersection (Southeast)', 'aren': 'No. 485， Guangfu S. Rd.', 'act': '0', 'srcUpdateTime': '2025-02-18 20:08:21', 'updateTime': '2025-02-18 20:08:52', 'infoTime': '2024-12-10 09:04:14', 'infoDate': '2024-12-10', 'total': 16, 'available_rent_bikes': 0, 'latitude': 25.03281, 'longitude': 121.55756, 'available_return_bikes': 0}\n",
      "{'sno': '500112062', 'sna': 'YouBike2.0_松山永吉路口', 'sarea': '信義區', 'mday': '2025-02-18 20:03:15', 'ar': '松山路166號', 'sareaen': 'Xinyi Dist', 'snaen': 'YouBike2.0_Songshan Rd. & Yongji Rd. Intersection', 'aren': 'No. 166， Songshan Rd', 'act': '1', 'srcUpdateTime': '2025-02-18 20:08:21', 'updateTime': '2025-02-18 20:08:52', 'infoTime': '2025-02-18 20:03:15', 'infoDate': '2025-02-18', 'total': 20, 'available_rent_bikes': 19, 'latitude': 25.04623, 'longitude': 121.57772, 'available_return_bikes': 0}\n",
      "{'sno': '500112079', 'sna': 'YouBike2.0_協和祐德高級中學', 'sarea': '信義區', 'mday': '2025-02-18 19:34:14', 'ar': '中坡南路51號對側', 'sareaen': 'Xinyi Dist', 'snaen': 'YouBike2.0_Xiehe Youde High School', 'aren': 'No. 51， Zhongpo S. Rd. (Opposite)', 'act': '1', 'srcUpdateTime': '2025-02-18 20:08:21', 'updateTime': '2025-02-18 20:08:52', 'infoTime': '2025-02-18 19:34:14', 'infoDate': '2025-02-18', 'total': 20, 'available_rent_bikes': 20, 'latitude': 25.0426, 'longitude': 121.58381, 'available_return_bikes': 0}\n",
      "{'sno': '500113015', 'sna': 'YouBike2.0_莒光立體停車場', 'sarea': '萬華區', 'mday': '2025-02-18 20:05:15', 'ar': '莒光路137號前', 'sareaen': 'Wanhua Dist', 'snaen': 'YouBike2.0_Juguang Car Park', 'aren': 'No. 137， Juguang Rd.', 'act': '1', 'srcUpdateTime': '2025-02-18 20:08:21', 'updateTime': '2025-02-18 20:08:52', 'infoTime': '2025-02-18 20:05:15', 'infoDate': '2025-02-18', 'total': 10, 'available_rent_bikes': 9, 'latitude': 25.03116, 'longitude': 121.50336, 'available_return_bikes': 0}\n",
      "{'sno': '500113071', 'sna': 'YouBike2.0_萬大路493巷', 'sarea': '萬華區', 'mday': '2025-02-18 18:58:14', 'ar': '萬大路493巷44號旁', 'sareaen': 'Wanhua Dist', 'snaen': 'YouBike2.0_Ln. 493， Wanda Rd.', 'aren': 'No. 44， Ln. 493， Wanda Rd.', 'act': '1', 'srcUpdateTime': '2025-02-18 20:08:21', 'updateTime': '2025-02-18 20:08:52', 'infoTime': '2025-02-18 18:58:14', 'infoDate': '2025-02-18', 'total': 10, 'available_rent_bikes': 10, 'latitude': 25.01975, 'longitude': 121.4992, 'available_return_bikes': 0}\n",
      "{'sno': '500113072', 'sna': 'YouBike2.0_雙園國中地下停車場', 'sarea': '萬華區', 'mday': '2025-02-18 19:51:14', 'ar': '西園路二段320巷55弄8-10號前', 'sareaen': 'Wanhua Dist', 'snaen': 'YouBike2.0_Shuangyuan Car Park', 'aren': 'No. 10， Aly. 55， Ln. 320， Sec. 2， Xiyuan Rd.', 'act': '1', 'srcUpdateTime': '2025-02-18 20:08:21', 'updateTime': '2025-02-18 20:08:52', 'infoTime': '2025-02-18 19:51:14', 'infoDate': '2025-02-18', 'total': 12, 'available_rent_bikes': 12, 'latitude': 25.02768, 'longitude': 121.49134, 'available_return_bikes': 0}\n"
     ]
    }
   ],
   "source": [
    "for site in data:\n",
    "   if site['available_return_bikes'] == 0:\n",
    "      print(site)"
   ]
  },
  {
   "cell_type": "code",
   "execution_count": 5,
   "metadata": {},
   "outputs": [
    {
     "name": "stdout",
     "output_type": "stream",
     "text": [
      "49\n",
      "YouBike2.0_復興南路二段280號前\n",
      "YouBike2.0_新生南路三段52號前\n",
      "YouBike2.0_辛亥路一段30號前\n",
      "YouBike2.0_和平復興路口西北側\n",
      "YouBike2.0_羅斯福路三段245號前\n",
      "YouBike2.0_捷運忠孝新生站(6號出口)\n",
      "YouBike2.0_大安高工\n",
      "YouBike2.0_捷運忠孝敦化站(2號出口)\n",
      "YouBike2.0_羅斯福浦城街口\n",
      "YouBike2.0_安和路二段69巷口\n",
      "YouBike2.0_捷運古亭站(3號出口)\n",
      "YouBike2.0_古風公園\n",
      "YouBike2.0_浦城街26巷\n",
      "YouBike2.0_大同運動中心\n",
      "YouBike2.0_捷運圓山站(2號出口)\n",
      "YouBike2.0_社正公園\n",
      "YouBike2.0_市立圖書館葫蘆堵分館\n",
      "YouBike2.0_永平社會住宅\n",
      "YouBike2.0_至誠雨聲街口\n",
      "YouBike2.0_士商路40巷口\n",
      "YouBike2.0_福林路255巷口\n",
      "YouBike2.0_木柵社會住宅\n",
      "YouBike2.0_萬有3號公園\n",
      "YouBike2.0_捷運古亭站(9號出口)\n",
      "YouBike2.0_捷運臺電大樓站(4號出口)\n",
      "YouBike2.0_羅斯福三段金門街口\n",
      "YouBike2.0_永昌公園\n",
      "YouBike2.0_仁愛金山路口\n",
      "YouBike2.0_捷運忠孝新生站(5號出口)\n",
      "YouBike2.0_幸安市場\n",
      "YouBike2.0_中吉公園\n",
      "YouBike2.0_南京伊通街口\n",
      "YouBike2.0_民權吉林路口(南側)\n",
      "YouBike2.0_朱昌公園\n",
      "YouBike2.0_關渡醫院\n",
      "YouBike2.0_北投新興公園\n",
      "YouBike2.0_捷運小巨蛋站(5號出口)\n",
      "YouBike2.0_市民延吉街口\n",
      "YouBike2.0_南港公園(東新街)\n",
      "YouBike2.0_八德中坡路口\n",
      "YouBike2.0_舊莊國小(舊莊街一段)\n",
      "YouBike2.0_向陽公園\n",
      "YouBike2.0_忠孝東路六段278巷口\n",
      "YouBike2.0_光復信義路口東南側\n",
      "YouBike2.0_松山永吉路口\n",
      "YouBike2.0_協和祐德高級中學\n",
      "YouBike2.0_莒光立體停車場\n",
      "YouBike2.0_萬大路493巷\n",
      "YouBike2.0_雙園國中地下停車場\n"
     ]
    }
   ],
   "source": [
    "def filter_func(n:dict):\n",
    "    return n['available_return_bikes'] == 0\n",
    "\n",
    "zero_bike_return = list(filter(filter_func,data))\n",
    "print(len(zero_bike_return))\n",
    "for site in zero_bike_return:\n",
    "    print(site['sna'])"
   ]
  }
 ],
 "metadata": {
  "kernelspec": {
   "display_name": "base",
   "language": "python",
   "name": "python3"
  },
  "language_info": {
   "codemirror_mode": {
    "name": "ipython",
    "version": 3
   },
   "file_extension": ".py",
   "mimetype": "text/x-python",
   "name": "python",
   "nbconvert_exporter": "python",
   "pygments_lexer": "ipython3",
   "version": "3.12.3"
  }
 },
 "nbformat": 4,
 "nbformat_minor": 2
}
