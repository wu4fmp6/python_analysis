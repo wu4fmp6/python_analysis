{
 "cells": [
  {
   "cell_type": "code",
   "execution_count": null,
   "metadata": {},
   "outputs": [],
   "source": [
    "import requests\n",
    "\n",
    "url = 'https://tcgbusfs.blob.core.windows.net/dotapp/youbike/v2/youbike_immediate.json'\n",
    "\n",
    "try:\n",
    "    response = requests.get(url)\n",
    "    response.raise_for_status()  # 檢查HTTP狀態碼，確保請求成功\n",
    "\n",
    "    data = response.json()  # 將JSON格式的資料轉換為Python字典\n",
    "\n",
    "    # 在這裡你可以對data做任何處理，例如儲存到檔案或分析資料\n",
    "    # 以下是一個簡單的範例，將資料儲存到youbike_data.json檔案中\n",
    "    with open('youbike_data.json', 'w', encoding='utf-8') as f:\n",
    "        import json\n",
    "        json.dump(data, f, ensure_ascii=False, indent=4)\n",
    "\n",
    "    print('YouBike即時資訊下載完成！')\n",
    "\n",
    "except requests.exceptions.RequestException as e:\n",
    "    print(f'下載YouBike即時資訊時發生錯誤：{e}')\n",
    "except json.JSONDecodeError as e:\n",
    "    print(f'解析JSON資料時發生錯誤：{e}')"
   ]
  }
 ],
 "metadata": {
  "language_info": {
   "name": "python"
  }
 },
 "nbformat": 4,
 "nbformat_minor": 2
}
