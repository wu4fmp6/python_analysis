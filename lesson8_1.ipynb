{
 "cells": [
  {
   "cell_type": "code",
   "execution_count": 1,
   "metadata": {},
   "outputs": [
    {
     "name": "stdout",
     "output_type": "stream",
     "text": [
      "<class 'pandas.core.frame.DataFrame'>\n",
      "RangeIndex: 4 entries, 0 to 3\n",
      "Data columns (total 3 columns):\n",
      " #   Column  Non-Null Count  Dtype  \n",
      "---  ------  --------------  -----  \n",
      " 0   col1    3 non-null      float64\n",
      " 1   col2    4 non-null      object \n",
      " 2   col3    4 non-null      float64\n",
      "dtypes: float64(2), object(1)\n",
      "memory usage: 228.0+ bytes\n"
     ]
    },
    {
     "data": {
      "text/html": [
       "<div>\n",
       "<style scoped>\n",
       "    .dataframe tbody tr th:only-of-type {\n",
       "        vertical-align: middle;\n",
       "    }\n",
       "\n",
       "    .dataframe tbody tr th {\n",
       "        vertical-align: top;\n",
       "    }\n",
       "\n",
       "    .dataframe thead th {\n",
       "        text-align: right;\n",
       "    }\n",
       "</style>\n",
       "<table border=\"1\" class=\"dataframe\">\n",
       "  <thead>\n",
       "    <tr style=\"text-align: right;\">\n",
       "      <th></th>\n",
       "      <th>col1</th>\n",
       "      <th>col2</th>\n",
       "      <th>col3</th>\n",
       "    </tr>\n",
       "  </thead>\n",
       "  <tbody>\n",
       "    <tr>\n",
       "      <th>0</th>\n",
       "      <td>1.0</td>\n",
       "      <td>a</td>\n",
       "      <td>1.1</td>\n",
       "    </tr>\n",
       "    <tr>\n",
       "      <th>1</th>\n",
       "      <td>2.0</td>\n",
       "      <td>b</td>\n",
       "      <td>2.2</td>\n",
       "    </tr>\n",
       "    <tr>\n",
       "      <th>2</th>\n",
       "      <td>3.0</td>\n",
       "      <td>c</td>\n",
       "      <td>3.3</td>\n",
       "    </tr>\n",
       "    <tr>\n",
       "      <th>3</th>\n",
       "      <td>NaN</td>\n",
       "      <td>d</td>\n",
       "      <td>4.4</td>\n",
       "    </tr>\n",
       "  </tbody>\n",
       "</table>\n",
       "</div>"
      ],
      "text/plain": [
       "   col1 col2  col3\n",
       "0   1.0    a   1.1\n",
       "1   2.0    b   2.2\n",
       "2   3.0    c   3.3\n",
       "3   NaN    d   4.4"
      ]
     },
     "execution_count": 1,
     "metadata": {},
     "output_type": "execute_result"
    }
   ],
   "source": [
    "import pandas as pd\n",
    "\n",
    "# Sample DataFrame\n",
    "data = {'col1': [1, 2, 3, None], 'col2': ['a', 'b', 'c', 'd'], 'col3': [1.1, 2.2, 3.3, 4.4]}\n",
    "df = pd.DataFrame(data)\n",
    "\n",
    "df.info()\n",
    "df"
   ]
  },
  {
   "cell_type": "code",
   "execution_count": 2,
   "metadata": {},
   "outputs": [
    {
     "data": {
      "text/html": [
       "<div>\n",
       "<style scoped>\n",
       "    .dataframe tbody tr th:only-of-type {\n",
       "        vertical-align: middle;\n",
       "    }\n",
       "\n",
       "    .dataframe tbody tr th {\n",
       "        vertical-align: top;\n",
       "    }\n",
       "\n",
       "    .dataframe thead th {\n",
       "        text-align: right;\n",
       "    }\n",
       "</style>\n",
       "<table border=\"1\" class=\"dataframe\">\n",
       "  <thead>\n",
       "    <tr style=\"text-align: right;\">\n",
       "      <th></th>\n",
       "      <th>0</th>\n",
       "      <th>1</th>\n",
       "      <th>2</th>\n",
       "      <th>3</th>\n",
       "    </tr>\n",
       "  </thead>\n",
       "  <tbody>\n",
       "    <tr>\n",
       "      <th>col1</th>\n",
       "      <td>1.0</td>\n",
       "      <td>2.0</td>\n",
       "      <td>3.0</td>\n",
       "      <td>NaN</td>\n",
       "    </tr>\n",
       "    <tr>\n",
       "      <th>col2</th>\n",
       "      <td>a</td>\n",
       "      <td>b</td>\n",
       "      <td>c</td>\n",
       "      <td>d</td>\n",
       "    </tr>\n",
       "    <tr>\n",
       "      <th>col3</th>\n",
       "      <td>1.1</td>\n",
       "      <td>2.2</td>\n",
       "      <td>3.3</td>\n",
       "      <td>4.4</td>\n",
       "    </tr>\n",
       "  </tbody>\n",
       "</table>\n",
       "</div>"
      ],
      "text/plain": [
       "        0    1    2    3\n",
       "col1  1.0  2.0  3.0  NaN\n",
       "col2    a    b    c    d\n",
       "col3  1.1  2.2  3.3  4.4"
      ]
     },
     "execution_count": 2,
     "metadata": {},
     "output_type": "execute_result"
    }
   ],
   "source": [
    "df.T"
   ]
  },
  {
   "cell_type": "code",
   "execution_count": 3,
   "metadata": {},
   "outputs": [
    {
     "name": "stdout",
     "output_type": "stream",
     "text": [
      "原始 DataFrame：\n",
      "   col1 col2  col3\n",
      "0   1.0    a   1.1\n",
      "1   2.0  NaN   2.2\n",
      "2   NaN    c   3.3\n",
      "3   4.0    d   NaN\n"
     ]
    }
   ],
   "source": [
    "import pandas as pd\n",
    "import numpy as np\n",
    "# 建立一個包含 NaN 的 DataFrame\n",
    "data = {'col1': [1, 2, np.nan, 4], \n",
    "        'col2': ['a', np.nan, 'c', 'd'], \n",
    "        'col3': [1.1, 2.2, 3.3, np.nan]}\n",
    "df = pd.DataFrame(data)\n",
    "\n",
    "print(\"原始 DataFrame：\")\n",
    "print(df)"
   ]
  },
  {
   "cell_type": "code",
   "execution_count": 4,
   "metadata": {},
   "outputs": [
    {
     "name": "stdout",
     "output_type": "stream",
     "text": [
      "\n",
      "刪除包含 NaN 的列後的 DataFrame：\n",
      "   col1 col2  col3\n",
      "0   1.0    a   1.1\n"
     ]
    }
   ],
   "source": [
    "# 刪除任何包含 NaN 的列\n",
    "df_cleaned = df.dropna()  # 預設是 axis=0, how='any'\n",
    "print(\"\\n刪除包含 NaN 的列後的 DataFrame：\")\n",
    "print(df_cleaned)"
   ]
  },
  {
   "cell_type": "code",
   "execution_count": 5,
   "metadata": {},
   "outputs": [
    {
     "name": "stdout",
     "output_type": "stream",
     "text": [
      "\n",
      "在原 DataFrame 上刪除包含 NaN 的列後的 DataFrame：\n",
      "   col1 col2  col3\n",
      "0   1.0    a   1.1\n"
     ]
    }
   ],
   "source": [
    "# 直接在原 DataFrame 上刪除包含 NaN 的列\n",
    "df.dropna(inplace=True)\n",
    "print(\"\\n在原 DataFrame 上刪除包含 NaN 的列後的 DataFrame：\")\n",
    "print(df)"
   ]
  },
  {
   "cell_type": "code",
   "execution_count": 6,
   "metadata": {},
   "outputs": [
    {
     "name": "stdout",
     "output_type": "stream",
     "text": [
      "\n",
      "原始 DataFrame2：\n",
      "   col1 col2  col3\n",
      "0   1.0    a   1.1\n",
      "1   2.0  NaN   2.2\n",
      "2   NaN  NaN   NaN\n",
      "3   4.0    d   NaN\n"
     ]
    }
   ],
   "source": [
    "# 只有當該列的所有值都是 NaN 時，才刪除該列\n",
    "data2 = {'col1': [1, 2, np.nan, 4], \n",
    "        'col2': ['a', np.nan, np.nan, 'd'], \n",
    "        'col3': [1.1, 2.2, np.nan, np.nan]}\n",
    "df2 = pd.DataFrame(data2)\n",
    "print(\"\\n原始 DataFrame2：\")\n",
    "print(df2)"
   ]
  },
  {
   "cell_type": "code",
   "execution_count": 7,
   "metadata": {},
   "outputs": [
    {
     "name": "stdout",
     "output_type": "stream",
     "text": [
      "\n",
      "刪除所有值都是 NaN 的列後的 DataFrame2：\n",
      "   col1 col2  col3\n",
      "0   1.0    a   1.1\n",
      "1   2.0  NaN   2.2\n",
      "3   4.0    d   NaN\n"
     ]
    }
   ],
   "source": [
    "df2_cleaned = df2.dropna(how='all')\n",
    "print(\"\\n刪除所有值都是 NaN 的列後的 DataFrame2：\")\n",
    "print(df2_cleaned)"
   ]
  },
  {
   "cell_type": "code",
   "execution_count": 8,
   "metadata": {},
   "outputs": [
    {
     "name": "stdout",
     "output_type": "stream",
     "text": [
      "\n",
      "原始 DataFrame3：\n",
      "   col1 col2  col3\n",
      "0   1.0    a   1.1\n",
      "1   2.0  NaN   2.2\n",
      "2   NaN    c   3.3\n",
      "3   4.0    d   NaN\n"
     ]
    }
   ],
   "source": [
    "# 指定要檢查的列名列表\n",
    "data3 = {'col1': [1, 2, np.nan, 4], \n",
    "        'col2': ['a', np.nan, 'c', 'd'], \n",
    "        'col3': [1.1, 2.2, 3.3, np.nan]}\n",
    "df3 = pd.DataFrame(data3)\n",
    "print(\"\\n原始 DataFrame3：\")\n",
    "print(df3)"
   ]
  },
  {
   "cell_type": "code",
   "execution_count": 9,
   "metadata": {},
   "outputs": [
    {
     "name": "stdout",
     "output_type": "stream",
     "text": [
      "\n",
      "刪除col1或col3包含NaN的列後的 DataFrame3：\n",
      "   col1 col2  col3\n",
      "0   1.0    a   1.1\n",
      "1   2.0  NaN   2.2\n"
     ]
    }
   ],
   "source": [
    "df3_cleaned = df3.dropna(subset=['col1','col3'])\n",
    "print(\"\\n刪除col1或col3包含NaN的列後的 DataFrame3：\")\n",
    "print(df3_cleaned)"
   ]
  },
  {
   "cell_type": "code",
   "execution_count": 10,
   "metadata": {},
   "outputs": [
    {
     "name": "stdout",
     "output_type": "stream",
     "text": [
      "原始 DataFrame：\n",
      "   col1 col2  col3\n",
      "0   1.0    a   NaN\n",
      "1   2.0  NaN   NaN\n",
      "2   NaN    c   NaN\n",
      "3   4.0    d   NaN\n"
     ]
    }
   ],
   "source": [
    "# 建立一個包含 NaN 的 DataFrame\n",
    "data = {'col1': [1, 2, np.nan, 4], \n",
    "        'col2': ['a', np.nan, 'c', 'd'], \n",
    "        'col3': [np.nan, np.nan, np.nan, np.nan]}\n",
    "df = pd.DataFrame(data)\n",
    "\n",
    "print(\"原始 DataFrame：\")\n",
    "print(df)"
   ]
  },
  {
   "cell_type": "code",
   "execution_count": 11,
   "metadata": {},
   "outputs": [
    {
     "name": "stdout",
     "output_type": "stream",
     "text": [
      "\n",
      "刪除包含 NaN 的欄後的 DataFrame：\n",
      "Empty DataFrame\n",
      "Columns: []\n",
      "Index: [0, 1, 2, 3]\n"
     ]
    }
   ],
   "source": [
    "# 刪除任何包含 NaN 的欄\n",
    "df_cleaned = df.dropna(axis='columns')  # 或 axis='columns'\n",
    "print(\"\\n刪除包含 NaN 的欄後的 DataFrame：\")\n",
    "print(df_cleaned)"
   ]
  }
 ],
 "metadata": {
  "kernelspec": {
   "display_name": "base",
   "language": "python",
   "name": "python3"
  },
  "language_info": {
   "codemirror_mode": {
    "name": "ipython",
    "version": 3
   },
   "file_extension": ".py",
   "mimetype": "text/x-python",
   "name": "python",
   "nbconvert_exporter": "python",
   "pygments_lexer": "ipython3",
   "version": "3.12.9"
  }
 },
 "nbformat": 4,
 "nbformat_minor": 2
}
