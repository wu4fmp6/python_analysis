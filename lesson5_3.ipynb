{
 "cells": [
  {
   "cell_type": "code",
   "execution_count": 16,
   "metadata": {},
   "outputs": [
    {
     "data": {
      "text/plain": [
       "array([[64, 85, 76],\n",
       "       [94, 67, 84],\n",
       "       [75, 61, 69]])"
      ]
     },
     "execution_count": 16,
     "metadata": {},
     "output_type": "execute_result"
    }
   ],
   "source": [
    "import numpy as np\n",
    "students = np.array([\n",
    "    [64, 85, 76], \n",
    "    [94, 67, 84], \n",
    "    [75, 61, 69]\n",
    "    ])\n",
    "students"
   ]
  },
  {
   "cell_type": "code",
   "execution_count": 17,
   "metadata": {},
   "outputs": [
    {
     "data": {
      "text/html": [
       "<div>\n",
       "<style scoped>\n",
       "    .dataframe tbody tr th:only-of-type {\n",
       "        vertical-align: middle;\n",
       "    }\n",
       "\n",
       "    .dataframe tbody tr th {\n",
       "        vertical-align: top;\n",
       "    }\n",
       "\n",
       "    .dataframe thead th {\n",
       "        text-align: right;\n",
       "    }\n",
       "</style>\n",
       "<table border=\"1\" class=\"dataframe\">\n",
       "  <thead>\n",
       "    <tr style=\"text-align: right;\">\n",
       "      <th></th>\n",
       "      <th>國文</th>\n",
       "      <th>英文</th>\n",
       "      <th>數學</th>\n",
       "    </tr>\n",
       "  </thead>\n",
       "  <tbody>\n",
       "    <tr>\n",
       "      <th>stu1</th>\n",
       "      <td>64</td>\n",
       "      <td>85</td>\n",
       "      <td>76</td>\n",
       "    </tr>\n",
       "    <tr>\n",
       "      <th>stu2</th>\n",
       "      <td>94</td>\n",
       "      <td>67</td>\n",
       "      <td>84</td>\n",
       "    </tr>\n",
       "    <tr>\n",
       "      <th>stu3</th>\n",
       "      <td>75</td>\n",
       "      <td>61</td>\n",
       "      <td>69</td>\n",
       "    </tr>\n",
       "  </tbody>\n",
       "</table>\n",
       "</div>"
      ],
      "text/plain": [
       "      國文  英文  數學\n",
       "stu1  64  85  76\n",
       "stu2  94  67  84\n",
       "stu3  75  61  69"
      ]
     },
     "execution_count": 17,
     "metadata": {},
     "output_type": "execute_result"
    }
   ],
   "source": [
    "import pandas as pd\n",
    "\n",
    "pd.DataFrame(data = students,\n",
    "            index = ['stu1', 'stu2', 'stu3'],\n",
    "            columns = ['國文','英文','數學']\n",
    "            )"
   ]
  },
  {
   "cell_type": "code",
   "execution_count": 18,
   "metadata": {},
   "outputs": [
    {
     "data": {
      "text/plain": [
       "['黃善迪',\n",
       " '鄧哲榮',\n",
       " '賴佳雯',\n",
       " '戴萱能',\n",
       " '趙家豪',\n",
       " '郭致恬',\n",
       " '林志成',\n",
       " '蔡士賢',\n",
       " '楊偉翔',\n",
       " '張天亨',\n",
       " '蔡孟泉',\n",
       " '李立偉',\n",
       " '錢佩豪',\n",
       " '陳筱涵',\n",
       " '楊火帆',\n",
       " '黃麗美',\n",
       " '錢欣潔',\n",
       " '劉佳佩',\n",
       " '林玉佩',\n",
       " '高俊男',\n",
       " '黃婷婷',\n",
       " '李美洋',\n",
       " '鍾俞禎',\n",
       " '馮芳如',\n",
       " '陳怡伶',\n",
       " '林士凱',\n",
       " '陳建香',\n",
       " '孫火清',\n",
       " '黃奎紹',\n",
       " '王志謙',\n",
       " '溫法堯',\n",
       " '周家銘',\n",
       " '黃名明',\n",
       " '方筠紹',\n",
       " '吳晴洋',\n",
       " '吳俐芷',\n",
       " '謝水儒',\n",
       " '林瑞喬',\n",
       " '吳振瑋',\n",
       " '李進慧',\n",
       " '柯韋成',\n",
       " '趙宛真',\n",
       " '馮耀中',\n",
       " '彭偉妃',\n",
       " '李政成',\n",
       " '姜琬婷',\n",
       " '陳俊憲',\n",
       " '余丞苓',\n",
       " '吳柏誠',\n",
       " '朱士弘']"
      ]
     },
     "execution_count": 18,
     "metadata": {},
     "output_type": "execute_result"
    }
   ],
   "source": [
    "import random\n",
    "def get_names(nums:int=10):\n",
    "    with open('name.txt',encoding='utf-8') as file:\n",
    "        content = file.read()\n",
    "        names = content.split('\\n')\n",
    "        random_names= random.sample(names,nums)\n",
    "    return random_names\n",
    "\n",
    "get_names(50)"
   ]
  },
  {
   "cell_type": "code",
   "execution_count": 19,
   "metadata": {},
   "outputs": [],
   "source": [
    "students_nums = 50\n",
    "data = np.random.randint(50, high=101, size=(students_nums, 5))\n",
    "students = pd.DataFrame(data,\n",
    "                        columns=['國文', '英文', '數學', '地理', '歷史'],\n",
    "                        index=get_names(students_nums))\n"
   ]
  },
  {
   "cell_type": "code",
   "execution_count": 20,
   "metadata": {},
   "outputs": [
    {
     "name": "stdout",
     "output_type": "stream",
     "text": [
      "存檔成功存檔成功\n"
     ]
    }
   ],
   "source": [
    "students.to_csv('student.csv')\n",
    "print('存檔成功存檔成功')"
   ]
  },
  {
   "cell_type": "code",
   "execution_count": 21,
   "metadata": {},
   "outputs": [],
   "source": [
    "students.to_excel('student.xlsx',sheet_name='三年八班期中考分數')"
   ]
  }
 ],
 "metadata": {
  "kernelspec": {
   "display_name": "base",
   "language": "python",
   "name": "python3"
  },
  "language_info": {
   "codemirror_mode": {
    "name": "ipython",
    "version": 3
   },
   "file_extension": ".py",
   "mimetype": "text/x-python",
   "name": "python",
   "nbconvert_exporter": "python",
   "pygments_lexer": "ipython3",
   "version": "3.12.3"
  }
 },
 "nbformat": 4,
 "nbformat_minor": 2
}
