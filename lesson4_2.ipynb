{
 "cells": [
  {
   "cell_type": "code",
   "execution_count": 15,
   "metadata": {},
   "outputs": [],
   "source": [
    "file = open(file = 'students.csv',encoding='utf-8')\n",
    "file.close()\n"
   ]
  },
  {
   "cell_type": "code",
   "execution_count": 17,
   "metadata": {},
   "outputs": [
    {
     "name": "stdout",
     "output_type": "stream",
     "text": [
      "name,chinese,english,math,history,health\n",
      "students1,57,67,63,71,93\n",
      "students2,91,57,77,93,60\n",
      "students3,61,87,65,59,90\n",
      "students4,57,99,52,60,88\n",
      "students5,70,87,50,96,69\n",
      "students6,95,60,100,92,95\n",
      "students7,66,95,95,72,78\n",
      "students8,82,92,90,97,56\n",
      "students9,56,52,67,62,90\n",
      "students10,92,79,95,91,76\n",
      "students11,66,56,97,58,72\n",
      "students12,62,62,62,97,75\n",
      "students13,61,53,100,82,63\n",
      "students14,64,83,55,53,81\n",
      "students15,72,83,82,81,61\n",
      "students16,53,74,80,99,59\n",
      "students17,59,62,91,95,63\n",
      "students18,100,60,84,89,67\n",
      "students19,68,84,89,92,84\n",
      "students20,53,56,54,92,85\n",
      "students21,80,63,85,67,53\n",
      "students22,77,78,82,73,72\n",
      "students23,98,82,88,57,74\n",
      "students24,77,94,79,96,84\n",
      "students25,77,96,61,66,98\n",
      "students26,87,98,97,53,55\n",
      "students27,66,77,51,95,53\n",
      "students28,57,98,69,92,80\n",
      "students29,69,54,90,76,71\n",
      "students30,97,82,74,86,77\n",
      "students31,94,72,85,66,94\n",
      "students32,99,66,54,84,76\n",
      "students33,68,73,84,66,78\n",
      "students34,57,57,63,96,75\n",
      "students35,77,90,67,74,88\n",
      "students36,78,76,95,70,86\n",
      "students37,84,71,69,70,99\n",
      "students38,52,72,94,75,58\n",
      "students39,61,61,75,74,68\n",
      "students40,78,93,87,76,74\n",
      "students41,75,60,80,71,59\n",
      "students42,59,50,99,67,91\n",
      "students43,95,74,72,75,97\n",
      "students44,68,54,70,67,96\n",
      "students45,68,51,92,94,50\n",
      "students46,95,60,70,95,79\n",
      "students47,73,87,69,68,82\n",
      "students48,80,90,88,90,84\n",
      "students49,84,86,70,95,80\n",
      "students50,87,86,84,84,51\n",
      "\n"
     ]
    }
   ],
   "source": [
    "with open(file = 'students.csv',encoding='utf-8') as file:\n",
    "    content:str = file.read()\n",
    "print(content)"
   ]
  }
 ],
 "metadata": {
  "kernelspec": {
   "display_name": "base",
   "language": "python",
   "name": "python3"
  },
  "language_info": {
   "codemirror_mode": {
    "name": "ipython",
    "version": 3
   },
   "file_extension": ".py",
   "mimetype": "text/x-python",
   "name": "python",
   "nbconvert_exporter": "python",
   "pygments_lexer": "ipython3",
   "version": "3.12.2"
  }
 },
 "nbformat": 4,
 "nbformat_minor": 2
}
