{
  "nbformat": 4,
  "nbformat_minor": 0,
  "metadata": {
    "colab": {
      "provenance": [],
      "authorship_tag": "ABX9TyO2cUaLqabYfOcLAyB3CVQL",
      "include_colab_link": true
    },
    "kernelspec": {
      "name": "python3",
      "display_name": "Python 3"
    },
    "language_info": {
      "name": "python"
    }
  },
  "cells": [
    {
      "cell_type": "markdown",
      "metadata": {
        "id": "view-in-github",
        "colab_type": "text"
      },
      "source": [
        "<a href=\"https://colab.research.google.com/github/wu4fmp6/python_analysis/blob/main/lesson7_1t.ipynb\" target=\"_parent\"><img src=\"https://colab.research.google.com/assets/colab-badge.svg\" alt=\"Open In Colab\"/></a>"
      ]
    },
    {
      "cell_type": "code",
      "source": [
        "!pip install requests bs4 pandas matplotlib wget"
      ],
      "metadata": {
        "colab": {
          "base_uri": "https://localhost:8080/"
        },
        "id": "qQZkqZUxHTeY",
        "outputId": "5dbac647-6351-421b-f9c2-847f54aa0d96"
      },
      "execution_count": 10,
      "outputs": [
        {
          "output_type": "stream",
          "name": "stdout",
          "text": [
            "Requirement already satisfied: requests in /usr/local/lib/python3.11/dist-packages (2.32.3)\n",
            "Requirement already satisfied: bs4 in /usr/local/lib/python3.11/dist-packages (0.0.2)\n",
            "Requirement already satisfied: pandas in /usr/local/lib/python3.11/dist-packages (2.2.2)\n",
            "Requirement already satisfied: matplotlib in /usr/local/lib/python3.11/dist-packages (3.10.0)\n",
            "Collecting wget\n",
            "  Downloading wget-3.2.zip (10 kB)\n",
            "  Preparing metadata (setup.py) ... \u001b[?25l\u001b[?25hdone\n",
            "Requirement already satisfied: charset-normalizer<4,>=2 in /usr/local/lib/python3.11/dist-packages (from requests) (3.4.1)\n",
            "Requirement already satisfied: idna<4,>=2.5 in /usr/local/lib/python3.11/dist-packages (from requests) (3.10)\n",
            "Requirement already satisfied: urllib3<3,>=1.21.1 in /usr/local/lib/python3.11/dist-packages (from requests) (2.3.0)\n",
            "Requirement already satisfied: certifi>=2017.4.17 in /usr/local/lib/python3.11/dist-packages (from requests) (2025.1.31)\n",
            "Requirement already satisfied: beautifulsoup4 in /usr/local/lib/python3.11/dist-packages (from bs4) (4.13.3)\n",
            "Requirement already satisfied: numpy>=1.23.2 in /usr/local/lib/python3.11/dist-packages (from pandas) (1.26.4)\n",
            "Requirement already satisfied: python-dateutil>=2.8.2 in /usr/local/lib/python3.11/dist-packages (from pandas) (2.8.2)\n",
            "Requirement already satisfied: pytz>=2020.1 in /usr/local/lib/python3.11/dist-packages (from pandas) (2025.1)\n",
            "Requirement already satisfied: tzdata>=2022.7 in /usr/local/lib/python3.11/dist-packages (from pandas) (2025.1)\n",
            "Requirement already satisfied: contourpy>=1.0.1 in /usr/local/lib/python3.11/dist-packages (from matplotlib) (1.3.1)\n",
            "Requirement already satisfied: cycler>=0.10 in /usr/local/lib/python3.11/dist-packages (from matplotlib) (0.12.1)\n",
            "Requirement already satisfied: fonttools>=4.22.0 in /usr/local/lib/python3.11/dist-packages (from matplotlib) (4.56.0)\n",
            "Requirement already satisfied: kiwisolver>=1.3.1 in /usr/local/lib/python3.11/dist-packages (from matplotlib) (1.4.8)\n",
            "Requirement already satisfied: packaging>=20.0 in /usr/local/lib/python3.11/dist-packages (from matplotlib) (24.2)\n",
            "Requirement already satisfied: pillow>=8 in /usr/local/lib/python3.11/dist-packages (from matplotlib) (11.1.0)\n",
            "Requirement already satisfied: pyparsing>=2.3.1 in /usr/local/lib/python3.11/dist-packages (from matplotlib) (3.2.1)\n",
            "Requirement already satisfied: six>=1.5 in /usr/local/lib/python3.11/dist-packages (from python-dateutil>=2.8.2->pandas) (1.17.0)\n",
            "Requirement already satisfied: soupsieve>1.2 in /usr/local/lib/python3.11/dist-packages (from beautifulsoup4->bs4) (2.6)\n",
            "Requirement already satisfied: typing-extensions>=4.0.0 in /usr/local/lib/python3.11/dist-packages (from beautifulsoup4->bs4) (4.12.2)\n",
            "Building wheels for collected packages: wget\n",
            "  Building wheel for wget (setup.py) ... \u001b[?25l\u001b[?25hdone\n",
            "  Created wheel for wget: filename=wget-3.2-py3-none-any.whl size=9656 sha256=46d0861d1e797473a8c112d96448ed0db160a658804508b45a657b52a4573fd6\n",
            "  Stored in directory: /root/.cache/pip/wheels/40/b3/0f/a40dbd1c6861731779f62cc4babcb234387e11d697df70ee97\n",
            "Successfully built wget\n",
            "Installing collected packages: wget\n",
            "Successfully installed wget-3.2\n"
          ]
        }
      ]
    },
    {
      "cell_type": "code",
      "source": [
        "import wget\n",
        "wget.download('https://github.com/roberthsu2003/__2025_01_04_chihlee__/raw/refs/heads/main/ChineseFont.ttf')"
      ],
      "metadata": {
        "colab": {
          "base_uri": "https://localhost:8080/",
          "height": 36
        },
        "id": "kZta8Qf5jCW3",
        "outputId": "a2c963c8-381b-4291-f761-224f5417703a"
      },
      "execution_count": 11,
      "outputs": [
        {
          "output_type": "execute_result",
          "data": {
            "text/plain": [
              "'ChineseFont.ttf'"
            ],
            "application/vnd.google.colaboratory.intrinsic+json": {
              "type": "string"
            }
          },
          "metadata": {},
          "execution_count": 11
        }
      ]
    },
    {
      "cell_type": "code",
      "execution_count": null,
      "metadata": {
        "id": "RLewmpm9DhnR"
      },
      "outputs": [],
      "source": [
        "import requests\n",
        "from requests import Response\n",
        "url = \"https://rate.bot.com.tw/xrt?Lang=zh-TW\"\n",
        "response = requests.get(url)\n",
        "print(response.text)"
      ]
    },
    {
      "cell_type": "code",
      "source": [
        "from bs4 import BeautifulSoup\n",
        "from pprint import pprint\n",
        "soup = BeautifulSoup(response.text, 'html.parser')\n",
        "\n",
        "# 尋找帶有特定 title 屬性的表格\n",
        "rate_table = soup.find('table', {'title': '牌告匯率'})\n",
        "\n",
        "# 取得所有幣別和現金匯率資料\n",
        "currency_rows = rate_table.tbody.find_all('tr')\n",
        "\n",
        "rates:list[dict] = []\n",
        "\n",
        "for row in currency_rows:\n",
        "    currency_dict = {}\n",
        "    # 取行中的幣別資料\n",
        "    currency = row.find(\"td\", attrs={\"data-table\": \"幣別\"}).find(\"div\", class_=\"visible-phone\").text.strip()\n",
        "    currency_dict[\"幣別\"] = currency\n",
        "\n",
        "    # 取得即期買入匯率\n",
        "    currency_get = row.find(\"td\", attrs={\"data-table\": \"本行現金買入\"}).text.strip()\n",
        "    currency_dict[\"現金買入\"] = currency_get\n",
        "\n",
        "    # 取得即期賣出匯率\n",
        "    currency_send = row.find(\"td\", attrs={\"data-table\": \"本行現金賣出\"}).text.strip()\n",
        "    currency_dict[\"現金賣出\"] = currency_send\n",
        "\n",
        "    #print(f\"幣別: {currency}, 現金買入: {currency_get}, 現金賣出: {currency_send}\")\n",
        "    #print(\"-\" * 60)\n",
        "    rates.append(currency_dict)\n",
        "\n",
        "pprint(rates)"
      ],
      "metadata": {
        "colab": {
          "base_uri": "https://localhost:8080/"
        },
        "id": "8l0DG5KqFYpB",
        "outputId": "0bf402bd-94e6-47a4-f666-b19d1b54a703"
      },
      "execution_count": 2,
      "outputs": [
        {
          "output_type": "stream",
          "name": "stdout",
          "text": [
            "[{'幣別': '美金 (USD)', '現金買入': '32.52', '現金賣出': '33.19'},\n",
            " {'幣別': '港幣 (HKD)', '現金買入': '4.083', '現金賣出': '4.287'},\n",
            " {'幣別': '英鎊 (GBP)', '現金買入': '41.35', '現金賣出': '43.47'},\n",
            " {'幣別': '澳幣 (AUD)', '現金買入': '20.43', '現金賣出': '21.21'},\n",
            " {'幣別': '加拿大幣 (CAD)', '現金買入': '22.37', '現金賣出': '23.28'},\n",
            " {'幣別': '新加坡幣 (SGD)', '現金買入': '24.15', '現金賣出': '25.06'},\n",
            " {'幣別': '瑞士法郎 (CHF)', '現金買入': '36.72', '現金賣出': '37.92'},\n",
            " {'幣別': '日圓 (JPY)', '現金買入': '0.215', '現金賣出': '0.2278'},\n",
            " {'幣別': '南非幣 (ZAR)', '現金買入': '-', '現金賣出': '-'},\n",
            " {'幣別': '瑞典幣 (SEK)', '現金買入': '-', '現金賣出': '-'},\n",
            " {'幣別': '紐元 (NZD)', '現金買入': '18.41', '現金賣出': '19.26'},\n",
            " {'幣別': '泰幣 (THB)', '現金買入': '0.8454', '現金賣出': '1.0354'},\n",
            " {'幣別': '菲國比索 (PHP)', '現金買入': '0.5077', '現金賣出': '0.6397'},\n",
            " {'幣別': '印尼幣 (IDR)', '現金買入': '0.00168', '現金賣出': '0.00238'},\n",
            " {'幣別': '歐元 (EUR)', '現金買入': '34.94', '現金賣出': '36.28'},\n",
            " {'幣別': '韓元 (KRW)', '現金買入': '0.02089', '現金賣出': '0.02479'},\n",
            " {'幣別': '越南盾 (VND)', '現金買入': '0.00104', '現金賣出': '0.00145'},\n",
            " {'幣別': '馬來幣 (MYR)', '現金買入': '6.418', '現金賣出': '7.943'},\n",
            " {'幣別': '人民幣 (CNY)', '現金買入': '4.439', '現金賣出': '4.601'}]\n"
          ]
        }
      ]
    },
    {
      "cell_type": "code",
      "source": [
        "def filter_func(item:dict)->bool:\n",
        "    if item[\"現金買入\"] == \"-\":\n",
        "        return False\n",
        "    else:\n",
        "        return True\n",
        "\n",
        "filtered_rates = list(filter(filter_func,rates))\n",
        "filtered_rates"
      ],
      "metadata": {
        "colab": {
          "base_uri": "https://localhost:8080/"
        },
        "id": "qQAUAN_wFzu7",
        "outputId": "be41c5e1-97bb-4efc-ce8b-392b60b34e45"
      },
      "execution_count": 3,
      "outputs": [
        {
          "output_type": "execute_result",
          "data": {
            "text/plain": [
              "[{'幣別': '美金 (USD)', '現金買入': '32.52', '現金賣出': '33.19'},\n",
              " {'幣別': '港幣 (HKD)', '現金買入': '4.083', '現金賣出': '4.287'},\n",
              " {'幣別': '英鎊 (GBP)', '現金買入': '41.35', '現金賣出': '43.47'},\n",
              " {'幣別': '澳幣 (AUD)', '現金買入': '20.43', '現金賣出': '21.21'},\n",
              " {'幣別': '加拿大幣 (CAD)', '現金買入': '22.37', '現金賣出': '23.28'},\n",
              " {'幣別': '新加坡幣 (SGD)', '現金買入': '24.15', '現金賣出': '25.06'},\n",
              " {'幣別': '瑞士法郎 (CHF)', '現金買入': '36.72', '現金賣出': '37.92'},\n",
              " {'幣別': '日圓 (JPY)', '現金買入': '0.215', '現金賣出': '0.2278'},\n",
              " {'幣別': '紐元 (NZD)', '現金買入': '18.41', '現金賣出': '19.26'},\n",
              " {'幣別': '泰幣 (THB)', '現金買入': '0.8454', '現金賣出': '1.0354'},\n",
              " {'幣別': '菲國比索 (PHP)', '現金買入': '0.5077', '現金賣出': '0.6397'},\n",
              " {'幣別': '印尼幣 (IDR)', '現金買入': '0.00168', '現金賣出': '0.00238'},\n",
              " {'幣別': '歐元 (EUR)', '現金買入': '34.94', '現金賣出': '36.28'},\n",
              " {'幣別': '韓元 (KRW)', '現金買入': '0.02089', '現金賣出': '0.02479'},\n",
              " {'幣別': '越南盾 (VND)', '現金買入': '0.00104', '現金賣出': '0.00145'},\n",
              " {'幣別': '馬來幣 (MYR)', '現金買入': '6.418', '現金賣出': '7.943'},\n",
              " {'幣別': '人民幣 (CNY)', '現金買入': '4.439', '現金賣出': '4.601'}]"
            ]
          },
          "metadata": {},
          "execution_count": 3
        }
      ]
    },
    {
      "cell_type": "code",
      "source": [
        "def map_func(item:dict)->dict:\n",
        "    item[\"現金買入\"] = float(item[\"現金買入\"])\n",
        "    item[\"現金賣出\"] = float(item[\"現金賣出\"])\n",
        "    return item\n",
        "\n",
        "cleared_list= list(map(map_func,filtered_rates))\n",
        "cleared_list"
      ],
      "metadata": {
        "colab": {
          "base_uri": "https://localhost:8080/"
        },
        "id": "T1WXaCPZF1vc",
        "outputId": "47d61116-7c6f-40a0-e95b-b45462445091"
      },
      "execution_count": 4,
      "outputs": [
        {
          "output_type": "execute_result",
          "data": {
            "text/plain": [
              "[{'幣別': '美金 (USD)', '現金買入': 32.52, '現金賣出': 33.19},\n",
              " {'幣別': '港幣 (HKD)', '現金買入': 4.083, '現金賣出': 4.287},\n",
              " {'幣別': '英鎊 (GBP)', '現金買入': 41.35, '現金賣出': 43.47},\n",
              " {'幣別': '澳幣 (AUD)', '現金買入': 20.43, '現金賣出': 21.21},\n",
              " {'幣別': '加拿大幣 (CAD)', '現金買入': 22.37, '現金賣出': 23.28},\n",
              " {'幣別': '新加坡幣 (SGD)', '現金買入': 24.15, '現金賣出': 25.06},\n",
              " {'幣別': '瑞士法郎 (CHF)', '現金買入': 36.72, '現金賣出': 37.92},\n",
              " {'幣別': '日圓 (JPY)', '現金買入': 0.215, '現金賣出': 0.2278},\n",
              " {'幣別': '紐元 (NZD)', '現金買入': 18.41, '現金賣出': 19.26},\n",
              " {'幣別': '泰幣 (THB)', '現金買入': 0.8454, '現金賣出': 1.0354},\n",
              " {'幣別': '菲國比索 (PHP)', '現金買入': 0.5077, '現金賣出': 0.6397},\n",
              " {'幣別': '印尼幣 (IDR)', '現金買入': 0.00168, '現金賣出': 0.00238},\n",
              " {'幣別': '歐元 (EUR)', '現金買入': 34.94, '現金賣出': 36.28},\n",
              " {'幣別': '韓元 (KRW)', '現金買入': 0.02089, '現金賣出': 0.02479},\n",
              " {'幣別': '越南盾 (VND)', '現金買入': 0.00104, '現金賣出': 0.00145},\n",
              " {'幣別': '馬來幣 (MYR)', '現金買入': 6.418, '現金賣出': 7.943},\n",
              " {'幣別': '人民幣 (CNY)', '現金買入': 4.439, '現金賣出': 4.601}]"
            ]
          },
          "metadata": {},
          "execution_count": 4
        }
      ]
    },
    {
      "cell_type": "code",
      "source": [
        "import pandas as pd\n",
        "df = pd.DataFrame(cleared_list)\n",
        "df = df.sort_values(by=\"現金買入\",ascending=False)\n",
        "df.head()"
      ],
      "metadata": {
        "colab": {
          "base_uri": "https://localhost:8080/",
          "height": 206
        },
        "id": "xd_sHWuOGFUw",
        "outputId": "484b112f-121d-4f0f-909b-1c173860e9ca"
      },
      "execution_count": 5,
      "outputs": [
        {
          "output_type": "execute_result",
          "data": {
            "text/plain": [
              "            幣別   現金買入   現金賣出\n",
              "2     英鎊 (GBP)  41.35  43.47\n",
              "6   瑞士法郎 (CHF)  36.72  37.92\n",
              "12    歐元 (EUR)  34.94  36.28\n",
              "0     美金 (USD)  32.52  33.19\n",
              "5   新加坡幣 (SGD)  24.15  25.06"
            ],
            "text/html": [
              "\n",
              "  <div id=\"df-539a1370-c239-4a56-a46f-3a299216501d\" class=\"colab-df-container\">\n",
              "    <div>\n",
              "<style scoped>\n",
              "    .dataframe tbody tr th:only-of-type {\n",
              "        vertical-align: middle;\n",
              "    }\n",
              "\n",
              "    .dataframe tbody tr th {\n",
              "        vertical-align: top;\n",
              "    }\n",
              "\n",
              "    .dataframe thead th {\n",
              "        text-align: right;\n",
              "    }\n",
              "</style>\n",
              "<table border=\"1\" class=\"dataframe\">\n",
              "  <thead>\n",
              "    <tr style=\"text-align: right;\">\n",
              "      <th></th>\n",
              "      <th>幣別</th>\n",
              "      <th>現金買入</th>\n",
              "      <th>現金賣出</th>\n",
              "    </tr>\n",
              "  </thead>\n",
              "  <tbody>\n",
              "    <tr>\n",
              "      <th>2</th>\n",
              "      <td>英鎊 (GBP)</td>\n",
              "      <td>41.35</td>\n",
              "      <td>43.47</td>\n",
              "    </tr>\n",
              "    <tr>\n",
              "      <th>6</th>\n",
              "      <td>瑞士法郎 (CHF)</td>\n",
              "      <td>36.72</td>\n",
              "      <td>37.92</td>\n",
              "    </tr>\n",
              "    <tr>\n",
              "      <th>12</th>\n",
              "      <td>歐元 (EUR)</td>\n",
              "      <td>34.94</td>\n",
              "      <td>36.28</td>\n",
              "    </tr>\n",
              "    <tr>\n",
              "      <th>0</th>\n",
              "      <td>美金 (USD)</td>\n",
              "      <td>32.52</td>\n",
              "      <td>33.19</td>\n",
              "    </tr>\n",
              "    <tr>\n",
              "      <th>5</th>\n",
              "      <td>新加坡幣 (SGD)</td>\n",
              "      <td>24.15</td>\n",
              "      <td>25.06</td>\n",
              "    </tr>\n",
              "  </tbody>\n",
              "</table>\n",
              "</div>\n",
              "    <div class=\"colab-df-buttons\">\n",
              "\n",
              "  <div class=\"colab-df-container\">\n",
              "    <button class=\"colab-df-convert\" onclick=\"convertToInteractive('df-539a1370-c239-4a56-a46f-3a299216501d')\"\n",
              "            title=\"Convert this dataframe to an interactive table.\"\n",
              "            style=\"display:none;\">\n",
              "\n",
              "  <svg xmlns=\"http://www.w3.org/2000/svg\" height=\"24px\" viewBox=\"0 -960 960 960\">\n",
              "    <path d=\"M120-120v-720h720v720H120Zm60-500h600v-160H180v160Zm220 220h160v-160H400v160Zm0 220h160v-160H400v160ZM180-400h160v-160H180v160Zm440 0h160v-160H620v160ZM180-180h160v-160H180v160Zm440 0h160v-160H620v160Z\"/>\n",
              "  </svg>\n",
              "    </button>\n",
              "\n",
              "  <style>\n",
              "    .colab-df-container {\n",
              "      display:flex;\n",
              "      gap: 12px;\n",
              "    }\n",
              "\n",
              "    .colab-df-convert {\n",
              "      background-color: #E8F0FE;\n",
              "      border: none;\n",
              "      border-radius: 50%;\n",
              "      cursor: pointer;\n",
              "      display: none;\n",
              "      fill: #1967D2;\n",
              "      height: 32px;\n",
              "      padding: 0 0 0 0;\n",
              "      width: 32px;\n",
              "    }\n",
              "\n",
              "    .colab-df-convert:hover {\n",
              "      background-color: #E2EBFA;\n",
              "      box-shadow: 0px 1px 2px rgba(60, 64, 67, 0.3), 0px 1px 3px 1px rgba(60, 64, 67, 0.15);\n",
              "      fill: #174EA6;\n",
              "    }\n",
              "\n",
              "    .colab-df-buttons div {\n",
              "      margin-bottom: 4px;\n",
              "    }\n",
              "\n",
              "    [theme=dark] .colab-df-convert {\n",
              "      background-color: #3B4455;\n",
              "      fill: #D2E3FC;\n",
              "    }\n",
              "\n",
              "    [theme=dark] .colab-df-convert:hover {\n",
              "      background-color: #434B5C;\n",
              "      box-shadow: 0px 1px 3px 1px rgba(0, 0, 0, 0.15);\n",
              "      filter: drop-shadow(0px 1px 2px rgba(0, 0, 0, 0.3));\n",
              "      fill: #FFFFFF;\n",
              "    }\n",
              "  </style>\n",
              "\n",
              "    <script>\n",
              "      const buttonEl =\n",
              "        document.querySelector('#df-539a1370-c239-4a56-a46f-3a299216501d button.colab-df-convert');\n",
              "      buttonEl.style.display =\n",
              "        google.colab.kernel.accessAllowed ? 'block' : 'none';\n",
              "\n",
              "      async function convertToInteractive(key) {\n",
              "        const element = document.querySelector('#df-539a1370-c239-4a56-a46f-3a299216501d');\n",
              "        const dataTable =\n",
              "          await google.colab.kernel.invokeFunction('convertToInteractive',\n",
              "                                                    [key], {});\n",
              "        if (!dataTable) return;\n",
              "\n",
              "        const docLinkHtml = 'Like what you see? Visit the ' +\n",
              "          '<a target=\"_blank\" href=https://colab.research.google.com/notebooks/data_table.ipynb>data table notebook</a>'\n",
              "          + ' to learn more about interactive tables.';\n",
              "        element.innerHTML = '';\n",
              "        dataTable['output_type'] = 'display_data';\n",
              "        await google.colab.output.renderOutput(dataTable, element);\n",
              "        const docLink = document.createElement('div');\n",
              "        docLink.innerHTML = docLinkHtml;\n",
              "        element.appendChild(docLink);\n",
              "      }\n",
              "    </script>\n",
              "  </div>\n",
              "\n",
              "\n",
              "<div id=\"df-4d016a57-60a6-445e-9ab5-da862e8870f4\">\n",
              "  <button class=\"colab-df-quickchart\" onclick=\"quickchart('df-4d016a57-60a6-445e-9ab5-da862e8870f4')\"\n",
              "            title=\"Suggest charts\"\n",
              "            style=\"display:none;\">\n",
              "\n",
              "<svg xmlns=\"http://www.w3.org/2000/svg\" height=\"24px\"viewBox=\"0 0 24 24\"\n",
              "     width=\"24px\">\n",
              "    <g>\n",
              "        <path d=\"M19 3H5c-1.1 0-2 .9-2 2v14c0 1.1.9 2 2 2h14c1.1 0 2-.9 2-2V5c0-1.1-.9-2-2-2zM9 17H7v-7h2v7zm4 0h-2V7h2v10zm4 0h-2v-4h2v4z\"/>\n",
              "    </g>\n",
              "</svg>\n",
              "  </button>\n",
              "\n",
              "<style>\n",
              "  .colab-df-quickchart {\n",
              "      --bg-color: #E8F0FE;\n",
              "      --fill-color: #1967D2;\n",
              "      --hover-bg-color: #E2EBFA;\n",
              "      --hover-fill-color: #174EA6;\n",
              "      --disabled-fill-color: #AAA;\n",
              "      --disabled-bg-color: #DDD;\n",
              "  }\n",
              "\n",
              "  [theme=dark] .colab-df-quickchart {\n",
              "      --bg-color: #3B4455;\n",
              "      --fill-color: #D2E3FC;\n",
              "      --hover-bg-color: #434B5C;\n",
              "      --hover-fill-color: #FFFFFF;\n",
              "      --disabled-bg-color: #3B4455;\n",
              "      --disabled-fill-color: #666;\n",
              "  }\n",
              "\n",
              "  .colab-df-quickchart {\n",
              "    background-color: var(--bg-color);\n",
              "    border: none;\n",
              "    border-radius: 50%;\n",
              "    cursor: pointer;\n",
              "    display: none;\n",
              "    fill: var(--fill-color);\n",
              "    height: 32px;\n",
              "    padding: 0;\n",
              "    width: 32px;\n",
              "  }\n",
              "\n",
              "  .colab-df-quickchart:hover {\n",
              "    background-color: var(--hover-bg-color);\n",
              "    box-shadow: 0 1px 2px rgba(60, 64, 67, 0.3), 0 1px 3px 1px rgba(60, 64, 67, 0.15);\n",
              "    fill: var(--button-hover-fill-color);\n",
              "  }\n",
              "\n",
              "  .colab-df-quickchart-complete:disabled,\n",
              "  .colab-df-quickchart-complete:disabled:hover {\n",
              "    background-color: var(--disabled-bg-color);\n",
              "    fill: var(--disabled-fill-color);\n",
              "    box-shadow: none;\n",
              "  }\n",
              "\n",
              "  .colab-df-spinner {\n",
              "    border: 2px solid var(--fill-color);\n",
              "    border-color: transparent;\n",
              "    border-bottom-color: var(--fill-color);\n",
              "    animation:\n",
              "      spin 1s steps(1) infinite;\n",
              "  }\n",
              "\n",
              "  @keyframes spin {\n",
              "    0% {\n",
              "      border-color: transparent;\n",
              "      border-bottom-color: var(--fill-color);\n",
              "      border-left-color: var(--fill-color);\n",
              "    }\n",
              "    20% {\n",
              "      border-color: transparent;\n",
              "      border-left-color: var(--fill-color);\n",
              "      border-top-color: var(--fill-color);\n",
              "    }\n",
              "    30% {\n",
              "      border-color: transparent;\n",
              "      border-left-color: var(--fill-color);\n",
              "      border-top-color: var(--fill-color);\n",
              "      border-right-color: var(--fill-color);\n",
              "    }\n",
              "    40% {\n",
              "      border-color: transparent;\n",
              "      border-right-color: var(--fill-color);\n",
              "      border-top-color: var(--fill-color);\n",
              "    }\n",
              "    60% {\n",
              "      border-color: transparent;\n",
              "      border-right-color: var(--fill-color);\n",
              "    }\n",
              "    80% {\n",
              "      border-color: transparent;\n",
              "      border-right-color: var(--fill-color);\n",
              "      border-bottom-color: var(--fill-color);\n",
              "    }\n",
              "    90% {\n",
              "      border-color: transparent;\n",
              "      border-bottom-color: var(--fill-color);\n",
              "    }\n",
              "  }\n",
              "</style>\n",
              "\n",
              "  <script>\n",
              "    async function quickchart(key) {\n",
              "      const quickchartButtonEl =\n",
              "        document.querySelector('#' + key + ' button');\n",
              "      quickchartButtonEl.disabled = true;  // To prevent multiple clicks.\n",
              "      quickchartButtonEl.classList.add('colab-df-spinner');\n",
              "      try {\n",
              "        const charts = await google.colab.kernel.invokeFunction(\n",
              "            'suggestCharts', [key], {});\n",
              "      } catch (error) {\n",
              "        console.error('Error during call to suggestCharts:', error);\n",
              "      }\n",
              "      quickchartButtonEl.classList.remove('colab-df-spinner');\n",
              "      quickchartButtonEl.classList.add('colab-df-quickchart-complete');\n",
              "    }\n",
              "    (() => {\n",
              "      let quickchartButtonEl =\n",
              "        document.querySelector('#df-4d016a57-60a6-445e-9ab5-da862e8870f4 button');\n",
              "      quickchartButtonEl.style.display =\n",
              "        google.colab.kernel.accessAllowed ? 'block' : 'none';\n",
              "    })();\n",
              "  </script>\n",
              "</div>\n",
              "\n",
              "    </div>\n",
              "  </div>\n"
            ],
            "application/vnd.google.colaboratory.intrinsic+json": {
              "type": "dataframe",
              "variable_name": "df",
              "summary": "{\n  \"name\": \"df\",\n  \"rows\": 17,\n  \"fields\": [\n    {\n      \"column\": \"\\u5e63\\u5225\",\n      \"properties\": {\n        \"dtype\": \"string\",\n        \"num_unique_values\": 17,\n        \"samples\": [\n          \"\\u82f1\\u938a (GBP)\",\n          \"\\u745e\\u58eb\\u6cd5\\u90ce (CHF)\",\n          \"\\u52a0\\u62ff\\u5927\\u5e63 (CAD)\"\n        ],\n        \"semantic_type\": \"\",\n        \"description\": \"\"\n      }\n    },\n    {\n      \"column\": \"\\u73fe\\u91d1\\u8cb7\\u5165\",\n      \"properties\": {\n        \"dtype\": \"number\",\n        \"std\": 15.112170584202257,\n        \"min\": 0.00104,\n        \"max\": 41.35,\n        \"num_unique_values\": 17,\n        \"samples\": [\n          41.35,\n          36.72,\n          22.37\n        ],\n        \"semantic_type\": \"\",\n        \"description\": \"\"\n      }\n    },\n    {\n      \"column\": \"\\u73fe\\u91d1\\u8ce3\\u51fa\",\n      \"properties\": {\n        \"dtype\": \"number\",\n        \"std\": 15.635815123443662,\n        \"min\": 0.00145,\n        \"max\": 43.47,\n        \"num_unique_values\": 17,\n        \"samples\": [\n          43.47,\n          37.92,\n          23.28\n        ],\n        \"semantic_type\": \"\",\n        \"description\": \"\"\n      }\n    }\n  ]\n}"
            }
          },
          "metadata": {},
          "execution_count": 5
        }
      ]
    },
    {
      "cell_type": "code",
      "source": [
        "import matplotlib.pyplot as plt\n",
        "df['現金買入'].plot(kind='bar')\n",
        "plt.show()"
      ],
      "metadata": {
        "colab": {
          "base_uri": "https://localhost:8080/",
          "height": 434
        },
        "id": "lW280xLtGc_a",
        "outputId": "d1a23189-b910-45c7-f688-c998f5565c5c"
      },
      "execution_count": 6,
      "outputs": [
        {
          "output_type": "display_data",
          "data": {
            "text/plain": [
              "<Figure size 640x480 with 1 Axes>"
            ],
            "image/png": "[encoded data removed]"
          },
          "metadata": {}
        }
      ]
    },
    {
      "cell_type": "code",
      "source": [
        "df['幣別'].apply(lambda x: x.split()[-1])"
      ],
      "metadata": {
        "colab": {
          "base_uri": "https://localhost:8080/",
          "height": 617
        },
        "id": "D8_83M97Gspl",
        "outputId": "d3a776ae-0754-4ba6-cda0-2b48567d5f56"
      },
      "execution_count": 7,
      "outputs": [
        {
          "output_type": "execute_result",
          "data": {
            "text/plain": [
              "2     (GBP)\n",
              "6     (CHF)\n",
              "12    (EUR)\n",
              "0     (USD)\n",
              "5     (SGD)\n",
              "4     (CAD)\n",
              "3     (AUD)\n",
              "8     (NZD)\n",
              "15    (MYR)\n",
              "16    (CNY)\n",
              "1     (HKD)\n",
              "9     (THB)\n",
              "10    (PHP)\n",
              "7     (JPY)\n",
              "13    (KRW)\n",
              "11    (IDR)\n",
              "14    (VND)\n",
              "Name: 幣別, dtype: object"
            ],
            "text/html": [
              "<div>\n",
              "<style scoped>\n",
              "    .dataframe tbody tr th:only-of-type {\n",
              "        vertical-align: middle;\n",
              "    }\n",
              "\n",
              "    .dataframe tbody tr th {\n",
              "        vertical-align: top;\n",
              "    }\n",
              "\n",
              "    .dataframe thead th {\n",
              "        text-align: right;\n",
              "    }\n",
              "</style>\n",
              "<table border=\"1\" class=\"dataframe\">\n",
              "  <thead>\n",
              "    <tr style=\"text-align: right;\">\n",
              "      <th></th>\n",
              "      <th>幣別</th>\n",
              "    </tr>\n",
              "  </thead>\n",
              "  <tbody>\n",
              "    <tr>\n",
              "      <th>2</th>\n",
              "      <td>(GBP)</td>\n",
              "    </tr>\n",
              "    <tr>\n",
              "      <th>6</th>\n",
              "      <td>(CHF)</td>\n",
              "    </tr>\n",
              "    <tr>\n",
              "      <th>12</th>\n",
              "      <td>(EUR)</td>\n",
              "    </tr>\n",
              "    <tr>\n",
              "      <th>0</th>\n",
              "      <td>(USD)</td>\n",
              "    </tr>\n",
              "    <tr>\n",
              "      <th>5</th>\n",
              "      <td>(SGD)</td>\n",
              "    </tr>\n",
              "    <tr>\n",
              "      <th>4</th>\n",
              "      <td>(CAD)</td>\n",
              "    </tr>\n",
              "    <tr>\n",
              "      <th>3</th>\n",
              "      <td>(AUD)</td>\n",
              "    </tr>\n",
              "    <tr>\n",
              "      <th>8</th>\n",
              "      <td>(NZD)</td>\n",
              "    </tr>\n",
              "    <tr>\n",
              "      <th>15</th>\n",
              "      <td>(MYR)</td>\n",
              "    </tr>\n",
              "    <tr>\n",
              "      <th>16</th>\n",
              "      <td>(CNY)</td>\n",
              "    </tr>\n",
              "    <tr>\n",
              "      <th>1</th>\n",
              "      <td>(HKD)</td>\n",
              "    </tr>\n",
              "    <tr>\n",
              "      <th>9</th>\n",
              "      <td>(THB)</td>\n",
              "    </tr>\n",
              "    <tr>\n",
              "      <th>10</th>\n",
              "      <td>(PHP)</td>\n",
              "    </tr>\n",
              "    <tr>\n",
              "      <th>7</th>\n",
              "      <td>(JPY)</td>\n",
              "    </tr>\n",
              "    <tr>\n",
              "      <th>13</th>\n",
              "      <td>(KRW)</td>\n",
              "    </tr>\n",
              "    <tr>\n",
              "      <th>11</th>\n",
              "      <td>(IDR)</td>\n",
              "    </tr>\n",
              "    <tr>\n",
              "      <th>14</th>\n",
              "      <td>(VND)</td>\n",
              "    </tr>\n",
              "  </tbody>\n",
              "</table>\n",
              "</div><br><label><b>dtype:</b> object</label>"
            ]
          },
          "metadata": {},
          "execution_count": 7
        }
      ]
    },
    {
      "cell_type": "code",
      "source": [
        "import matplotlib.pyplot as plt\n",
        "# 1.製作figure\n",
        "fig = plt.figure(figsize=(10, 5))\n",
        "ax_1 = fig.add_subplot(1, 1, 1)\n",
        "ax_1.bar(df['幣別'].apply(lambda x: x.split()[-1]),df['現金買入'])\n",
        "ax_1.set_title('currency buy rate')\n",
        "ax_1.set_xlabel('currency')\n",
        "ax_1.set_ylabel('rate(NTD)')\n",
        "plt.show()"
      ],
      "metadata": {
        "colab": {
          "base_uri": "https://localhost:8080/",
          "height": 487
        },
        "id": "e0n5ajzrGvgG",
        "outputId": "237516f0-dd48-4bd3-dd9e-09b92ee51b77"
      },
      "execution_count": 8,
      "outputs": [
        {
          "output_type": "display_data",
          "data": {
            "text/plain": [
              "<Figure size 1000x500 with 1 Axes>"
            ],
            "image/png": "[encoded data removed]"
          },
          "metadata": {}
        }
      ]
    }
  ]
}