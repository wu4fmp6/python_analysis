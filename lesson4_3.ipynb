{
 "cells": [
  {
   "cell_type": "code",
   "execution_count": 13,
   "metadata": {},
   "outputs": [
    {
     "name": "stdout",
     "output_type": "stream",
     "text": [
      "[{'搭乘人次': '5393174', '月份': '1', '\\ufeff年份': '107'},\n",
      " {'搭乘人次': '4313714', '月份': '2', '\\ufeff年份': '107'},\n",
      " {'搭乘人次': '5897924', '月份': '3', '\\ufeff年份': '107'},\n",
      " {'搭乘人次': '5413457', '月份': '4', '\\ufeff年份': '107'},\n",
      " {'搭乘人次': '5770367', '月份': '5', '\\ufeff年份': '107'},\n",
      " {'搭乘人次': '5283410', '月份': '6', '\\ufeff年份': '107'},\n",
      " {'搭乘人次': '4080755', '月份': '7', '\\ufeff年份': '107'},\n",
      " {'搭乘人次': '4125349', '月份': '8', '\\ufeff年份': '107'},\n",
      " {'搭乘人次': '4766440', '月份': '9', '\\ufeff年份': '107'},\n",
      " {'搭乘人次': '5299789', '月份': '10', '\\ufeff年份': '107'},\n",
      " {'搭乘人次': '5085947', '月份': '11', '\\ufeff年份': '107'},\n",
      " {'搭乘人次': '5103054', '月份': '12', '\\ufeff年份': '107'},\n",
      " {'搭乘人次': '4649294', '月份': '1', '\\ufeff年份': '108'},\n",
      " {'搭乘人次': '4066151', '月份': '2', '\\ufeff年份': '108'},\n",
      " {'搭乘人次': '5029986', '月份': '3', '\\ufeff年份': '108'},\n",
      " {'搭乘人次': '4862978', '月份': '4', '\\ufeff年份': '108'},\n",
      " {'搭乘人次': '5086652', '月份': '5', '\\ufeff年份': '108'},\n",
      " {'搭乘人次': '4300047', '月份': '6', '\\ufeff年份': '108'},\n",
      " {'搭乘人次': '4488619', '月份': '7', '\\ufeff年份': '108'},\n",
      " {'搭乘人次': '4390033', '月份': '8', '\\ufeff年份': '108'},\n",
      " {'搭乘人次': '4634256', '月份': '9', '\\ufeff年份': '108'},\n",
      " {'搭乘人次': '5153121', '月份': '10', '\\ufeff年份': '108'},\n",
      " {'搭乘人次': '4954277', '月份': '11', '\\ufeff年份': '108'},\n",
      " {'搭乘人次': '5106617', '月份': '12', '\\ufeff年份': '108'},\n",
      " {'搭乘人次': '4426607', '月份': '1', '\\ufeff年份': '109'},\n",
      " {'搭乘人次': '3477765', '月份': '2', '\\ufeff年份': '109'},\n",
      " {'搭乘人次': '4072634', '月份': '3', '\\ufeff年份': '109'},\n",
      " {'搭乘人次': '3462751', '月份': '4', '\\ufeff年份': '109'},\n",
      " {'搭乘人次': '4058759', '月份': '5', '\\ufeff年份': '109'},\n",
      " {'搭乘人次': '4001733', '月份': '6', '\\ufeff年份': '109'},\n",
      " {'搭乘人次': '4032523', '月份': '7', '\\ufeff年份': '109'},\n",
      " {'搭乘人次': '3928647', '月份': '8', '\\ufeff年份': '109'},\n",
      " {'搭乘人次': '4480971', '月份': '9', '\\ufeff年份': '109'},\n",
      " {'搭乘人次': '4460921', '月份': '10', '\\ufeff年份': '109'},\n",
      " {'搭乘人次': '4516865', '月份': '11', '\\ufeff年份': '109'},\n",
      " {'搭乘人次': '4617832', '月份': '12', '\\ufeff年份': '109'},\n",
      " {'搭乘人次': '3656726', '月份': '1', '\\ufeff年份': '110'},\n",
      " {'搭乘人次': '2830324', '月份': '2', '\\ufeff年份': '110'},\n",
      " {'搭乘人次': '4353836', '月份': '3', '\\ufeff年份': '110'},\n",
      " {'搭乘人次': '4121798', '月份': '4', '\\ufeff年份': '110'},\n",
      " {'搭乘人次': '2550620', '月份': '5', '\\ufeff年份': '110'},\n",
      " {'搭乘人次': '491159', '月份': '6', '\\ufeff年份': '110'},\n",
      " {'搭乘人次': '939949', '月份': '7', '\\ufeff年份': '110'},\n",
      " {'搭乘人次': '1784847', '月份': '8', '\\ufeff年份': '110'},\n",
      " {'搭乘人次': '2716892', '月份': '9', '\\ufeff年份': '110'},\n",
      " {'搭乘人次': '3312237', '月份': '10', '\\ufeff年份': '110'},\n",
      " {'搭乘人次': '3576813', '月份': '11', '\\ufeff年份': '110'},\n",
      " {'搭乘人次': '3797212', '月份': '12', '\\ufeff年份': '110'},\n",
      " {'搭乘人次': '2686107', '月份': '1', '\\ufeff年份': '111'},\n",
      " {'搭乘人次': '2250944', '月份': '2', '\\ufeff年份': '111'},\n",
      " {'搭乘人次': '3622790', '月份': '3', '\\ufeff年份': '111'},\n",
      " {'搭乘人次': '2813999', '月份': '4', '\\ufeff年份': '111'},\n",
      " {'搭乘人次': '2089859', '月份': '5', '\\ufeff年份': '111'},\n",
      " {'搭乘人次': '2346331', '月份': '6', '\\ufeff年份': '111'},\n",
      " {'搭乘人次': '2568736', '月份': '7', '\\ufeff年份': '111'},\n",
      " {'搭乘人次': '2756154', '月份': '8', '\\ufeff年份': '111'},\n",
      " {'搭乘人次': '2918434', '月份': '9', '\\ufeff年份': '111'},\n",
      " {'搭乘人次': '3122558', '月份': '10', '\\ufeff年份': '111'},\n",
      " {'搭乘人次': '3078363', '月份': '11', '\\ufeff年份': '111'},\n",
      " {'搭乘人次': '3173977', '月份': '12', '\\ufeff年份': '111'},\n",
      " {'搭乘人次': '3182236', '月份': '1', '\\ufeff年份': '112'},\n",
      " {'搭乘人次': '2581462', '月份': '2', '\\ufeff年份': '112'},\n",
      " {'搭乘人次': '3617978', '月份': '3', '\\ufeff年份': '112'},\n",
      " {'搭乘人次': '3152079', '月份': '4', '\\ufeff年份': '112'},\n",
      " {'搭乘人次': '3306778', '月份': '5', '\\ufeff年份': '112'},\n",
      " {'搭乘人次': '3028373', '月份': '6', '\\ufeff年份': '112'},\n",
      " {'搭乘人次': '2889839', '月份': '7', '\\ufeff年份': '112'},\n",
      " {'搭乘人次': '3280254', '月份': '8', '\\ufeff年份': '112'},\n",
      " {'搭乘人次': '3324992', '月份': '9', '\\ufeff年份': '112'},\n",
      " {'搭乘人次': '3503249', '月份': '10', '\\ufeff年份': '112'},\n",
      " {'搭乘人次': '3544135', '月份': '11', '\\ufeff年份': '112'},\n",
      " {'搭乘人次': '3559284', '月份': '12', '\\ufeff年份': '112'},\n",
      " {'搭乘人次': '3307098', '月份': '1', '\\ufeff年份': '113'},\n",
      " {'搭乘人次': '2823497', '月份': '2', '\\ufeff年份': '113'},\n",
      " {'搭乘人次': '3463207', '月份': '3', '\\ufeff年份': '113'},\n",
      " {'搭乘人次': '3274412', '月份': '4', '\\ufeff年份': '113'},\n",
      " {'搭乘人次': '3604678', '月份': '5', '\\ufeff年份': '113'},\n",
      " {'搭乘人次': '3053784', '月份': '6', '\\ufeff年份': '113'},\n",
      " {'搭乘人次': '3042781', '月份': '7', '\\ufeff年份': '113'},\n",
      " {'搭乘人次': '3125831', '月份': '8', '\\ufeff年份': '113'},\n",
      " {'搭乘人次': '3281831', '月份': '9', '\\ufeff年份': '113'},\n",
      " {'搭乘人次': '3267489', '月份': '10', '\\ufeff年份': '113'},\n",
      " {'搭乘人次': '3497313', '月份': '11', '\\ufeff年份': '113'}]\n"
     ]
    }
   ],
   "source": [
    "import csv\n",
    "from pprint import pprint\n",
    "with open(file = 'abcd.csv',encoding='utf-8') as file:\n",
    "    reader = csv.DictReader(file)\n",
    "    people = list(reader)\n",
    "    \n",
    "pprint(people)"
   ]
  },
  {
   "cell_type": "code",
   "execution_count": 14,
   "metadata": {},
   "outputs": [
    {
     "name": "stdout",
     "output_type": "stream",
     "text": [
      "{'\\ufeff年份': '110', '月份': '1', '搭乘人次': '3656726'}\n",
      "{'\\ufeff年份': '110', '月份': '2', '搭乘人次': '2830324'}\n",
      "{'\\ufeff年份': '110', '月份': '3', '搭乘人次': '4353836'}\n",
      "{'\\ufeff年份': '110', '月份': '4', '搭乘人次': '4121798'}\n",
      "{'\\ufeff年份': '110', '月份': '5', '搭乘人次': '2550620'}\n",
      "{'\\ufeff年份': '110', '月份': '6', '搭乘人次': '491159'}\n",
      "{'\\ufeff年份': '110', '月份': '7', '搭乘人次': '939949'}\n",
      "{'\\ufeff年份': '110', '月份': '8', '搭乘人次': '1784847'}\n",
      "{'\\ufeff年份': '110', '月份': '9', '搭乘人次': '2716892'}\n",
      "{'\\ufeff年份': '110', '月份': '10', '搭乘人次': '3312237'}\n",
      "{'\\ufeff年份': '110', '月份': '11', '搭乘人次': '3576813'}\n",
      "{'\\ufeff年份': '110', '月份': '12', '搭乘人次': '3797212'}\n"
     ]
    }
   ],
   "source": [
    "import csv\n",
    "with open(file = 'abcd.csv',encoding='utf-8') as file:\n",
    "    reader = csv.DictReader(file)\n",
    "    abcd: list = list(reader)\n",
    "\n",
    "for abc in abcd:\n",
    "    if abc[\"\\ufeff年份\"] == '110':\n",
    "        print(abc)"
   ]
  },
  {
   "cell_type": "code",
   "execution_count": 15,
   "metadata": {},
   "outputs": [
    {
     "ename": "FileNotFoundError",
     "evalue": "[Errno 2] No such file or directory: '各年齡層女性持卡人消費現況.csv'",
     "output_type": "error",
     "traceback": [
      "\u001b[0;31m---------------------------------------------------------------------------\u001b[0m",
      "\u001b[0;31mFileNotFoundError\u001b[0m                         Traceback (most recent call last)",
      "Cell \u001b[0;32mIn[15], line 3\u001b[0m\n\u001b[1;32m      1\u001b[0m \u001b[38;5;28;01mimport\u001b[39;00m\u001b[38;5;250m \u001b[39m\u001b[38;5;21;01mcsv\u001b[39;00m\n\u001b[1;32m      2\u001b[0m \u001b[38;5;28;01mfrom\u001b[39;00m\u001b[38;5;250m \u001b[39m\u001b[38;5;21;01mpprint\u001b[39;00m\u001b[38;5;250m \u001b[39m\u001b[38;5;28;01mimport\u001b[39;00m pprint\n\u001b[0;32m----> 3\u001b[0m \u001b[38;5;28;01mwith\u001b[39;00m \u001b[38;5;28;43mopen\u001b[39;49m\u001b[43m(\u001b[49m\u001b[43mfile\u001b[49m\u001b[43m \u001b[49m\u001b[38;5;241;43m=\u001b[39;49m\u001b[43m \u001b[49m\u001b[38;5;124;43m'\u001b[39;49m\u001b[38;5;124;43m各年齡層女性持卡人消費現況.csv\u001b[39;49m\u001b[38;5;124;43m'\u001b[39;49m\u001b[43m,\u001b[49m\u001b[43mencoding\u001b[49m\u001b[38;5;241;43m=\u001b[39;49m\u001b[38;5;124;43m'\u001b[39;49m\u001b[38;5;124;43mutf-8\u001b[39;49m\u001b[38;5;124;43m'\u001b[39;49m\u001b[43m)\u001b[49m \u001b[38;5;28;01mas\u001b[39;00m file:\n\u001b[1;32m      4\u001b[0m     reader \u001b[38;5;241m=\u001b[39m csv\u001b[38;5;241m.\u001b[39mDictReader(file)\n\u001b[1;32m      5\u001b[0m     woman_card \u001b[38;5;241m=\u001b[39m \u001b[38;5;28mlist\u001b[39m(reader)\n",
      "File \u001b[0;32m/opt/conda/lib/python3.12/site-packages/IPython/core/interactiveshell.py:324\u001b[0m, in \u001b[0;36m_modified_open\u001b[0;34m(file, *args, **kwargs)\u001b[0m\n\u001b[1;32m    317\u001b[0m \u001b[38;5;28;01mif\u001b[39;00m file \u001b[38;5;129;01min\u001b[39;00m {\u001b[38;5;241m0\u001b[39m, \u001b[38;5;241m1\u001b[39m, \u001b[38;5;241m2\u001b[39m}:\n\u001b[1;32m    318\u001b[0m     \u001b[38;5;28;01mraise\u001b[39;00m \u001b[38;5;167;01mValueError\u001b[39;00m(\n\u001b[1;32m    319\u001b[0m         \u001b[38;5;124mf\u001b[39m\u001b[38;5;124m\"\u001b[39m\u001b[38;5;124mIPython won\u001b[39m\u001b[38;5;124m'\u001b[39m\u001b[38;5;124mt let you open fd=\u001b[39m\u001b[38;5;132;01m{\u001b[39;00mfile\u001b[38;5;132;01m}\u001b[39;00m\u001b[38;5;124m by default \u001b[39m\u001b[38;5;124m\"\u001b[39m\n\u001b[1;32m    320\u001b[0m         \u001b[38;5;124m\"\u001b[39m\u001b[38;5;124mas it is likely to crash IPython. If you know what you are doing, \u001b[39m\u001b[38;5;124m\"\u001b[39m\n\u001b[1;32m    321\u001b[0m         \u001b[38;5;124m\"\u001b[39m\u001b[38;5;124myou can use builtins\u001b[39m\u001b[38;5;124m'\u001b[39m\u001b[38;5;124m open.\u001b[39m\u001b[38;5;124m\"\u001b[39m\n\u001b[1;32m    322\u001b[0m     )\n\u001b[0;32m--> 324\u001b[0m \u001b[38;5;28;01mreturn\u001b[39;00m \u001b[43mio_open\u001b[49m\u001b[43m(\u001b[49m\u001b[43mfile\u001b[49m\u001b[43m,\u001b[49m\u001b[43m \u001b[49m\u001b[38;5;241;43m*\u001b[39;49m\u001b[43margs\u001b[49m\u001b[43m,\u001b[49m\u001b[43m \u001b[49m\u001b[38;5;241;43m*\u001b[39;49m\u001b[38;5;241;43m*\u001b[39;49m\u001b[43mkwargs\u001b[49m\u001b[43m)\u001b[49m\n",
      "\u001b[0;31mFileNotFoundError\u001b[0m: [Errno 2] No such file or directory: '各年齡層女性持卡人消費現況.csv'"
     ]
    }
   ],
   "source": [
    "import csv\n",
    "from pprint import pprint\n",
    "with open(file = '各年齡層女性持卡人消費現況.csv',encoding='utf-8') as file:\n",
    "    reader = csv.DictReader(file)\n",
    "    woman_card = list(reader)\n",
    "    \n",
    "pprint(woman_card)"
   ]
  },
  {
   "cell_type": "code",
   "execution_count": 16,
   "metadata": {},
   "outputs": [
    {
     "name": "stdout",
     "output_type": "stream",
     "text": [
      "{'\\ufeffYEAR': '113', 'MONTH': '11', 'PEOPLE': '3497313'}\n"
     ]
    }
   ],
   "source": [
    "import csv\n",
    "with open(file = 'abcd.csv',encoding='utf-8') as file:\n",
    "    reader = csv.DictReader(file)\n",
    "    abcd: list = list(reader)\n",
    "\n",
    "for abc in abcd:\n",
    "    if abc[\"\\ufeffYEAR\"] == '113,11':\n",
    "        print(abc)\n",
    "print(abc)"
   ]
  },
  {
   "cell_type": "code",
   "execution_count": 5,
   "metadata": {},
   "outputs": [
    {
     "name": "stdout",
     "output_type": "stream",
     "text": [
      "{'YEAR': '107', 'MONTH': '9', 'PEOPLE': '4766440'}\n",
      "{'YEAR': '108', 'MONTH': '9', 'PEOPLE': '4634256'}\n",
      "{'YEAR': '109', 'MONTH': '9', 'PEOPLE': '4480971'}\n",
      "{'YEAR': '110', 'MONTH': '9', 'PEOPLE': '2716892'}\n",
      "{'YEAR': '111', 'MONTH': '9', 'PEOPLE': '2918434'}\n",
      "{'YEAR': '112', 'MONTH': '9', 'PEOPLE': '3324992'}\n",
      "{'YEAR': '113', 'MONTH': '9', 'PEOPLE': '3281831'}\n"
     ]
    }
   ],
   "source": [
    "import csv\n",
    "\n",
    "with open(file='abcd.csv', encoding='utf-8-sig') as file:\n",
    "    reader = csv.DictReader(file)\n",
    "    abcd: list = list(reader)\n",
    "\n",
    "for abc in abcd:\n",
    "    if abc[\"MONTH\"] == '9': \n",
    "        print(abc)"
   ]
  },
  {
   "cell_type": "code",
   "execution_count": null,
   "metadata": {},
   "outputs": [],
   "source": [
    "from urllib import response\n",
    "import requests\n",
    "\n",
    "url = 'https://tcgbusfs.blob.core.windows.net/dotapp/youbike/v2/youbike_immediate.json'\n",
    "\n",
    "try:\n",
    "    response = requests.get(url)\n",
    "    response.raise_for_status()\n",
    "    "
   ]
  },
  {
   "cell_type": "code",
   "execution_count": 24,
   "metadata": {},
   "outputs": [
    {
     "name": "stdout",
     "output_type": "stream",
     "text": [
      "出錯了:division by zero\n"
     ]
    }
   ],
   "source": [
    "try:\n",
    "    5/0\n",
    "except Exception as e:\n",
    "    print(f'出錯了:{e}')"
   ]
  }
 ],
 "metadata": {
  "kernelspec": {
   "display_name": "base",
   "language": "python",
   "name": "python3"
  },
  "language_info": {
   "codemirror_mode": {
    "name": "ipython",
    "version": 3
   },
   "file_extension": ".py",
   "mimetype": "text/x-python",
   "name": "python",
   "nbconvert_exporter": "python",
   "pygments_lexer": "ipython3",
   "version": "3.12.2"
  }
 },
 "nbformat": 4,
 "nbformat_minor": 2
}
