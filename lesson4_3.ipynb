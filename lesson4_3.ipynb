{
 "cells": [
  {
   "cell_type": "code",
   "execution_count": 6,
   "metadata": {},
   "outputs": [
    {
     "name": "stdout",
     "output_type": "stream",
     "text": [
      "{'107': '110', '1': '1', '5393174': '3656726'}\n",
      "{'107': '110', '1': '2', '5393174': '2830324'}\n",
      "{'107': '110', '1': '3', '5393174': '4353836'}\n",
      "{'107': '110', '1': '4', '5393174': '4121798'}\n",
      "{'107': '110', '1': '5', '5393174': '2550620'}\n",
      "{'107': '110', '1': '6', '5393174': '491159'}\n",
      "{'107': '110', '1': '7', '5393174': '939949'}\n",
      "{'107': '110', '1': '8', '5393174': '1784847'}\n",
      "{'107': '110', '1': '9', '5393174': '2716892'}\n",
      "{'107': '110', '1': '10', '5393174': '3312237'}\n",
      "{'107': '110', '1': '11', '5393174': '3576813'}\n",
      "{'107': '110', '1': '12', '5393174': '3797212'}\n"
     ]
    }
   ],
   "source": [
    "import csv\n",
    "with open(file = 'abcd.csv',encoding='utf-8') as file:\n",
    "    reader = csv.DictReader(file)\n",
    "    abcd: list = list(reader)\n",
    "\n",
    "for abc in abcd:\n",
    "    if abc[\"107\"] == '110':\n",
    "        print(abc)"
   ]
  },
  {
   "cell_type": "code",
   "execution_count": 10,
   "metadata": {},
   "outputs": [
    {
     "ename": "KeyError",
     "evalue": "'name'",
     "output_type": "error",
     "traceback": [
      "\u001b[0;31m---------------------------------------------------------------------------\u001b[0m",
      "\u001b[0;31mKeyError\u001b[0m                                  Traceback (most recent call last)",
      "Cell \u001b[0;32mIn[10], line 7\u001b[0m\n\u001b[1;32m      4\u001b[0m     abcd: \u001b[38;5;28mlist\u001b[39m \u001b[38;5;241m=\u001b[39m \u001b[38;5;28mlist\u001b[39m(reader)\n\u001b[1;32m      6\u001b[0m \u001b[38;5;28;01mfor\u001b[39;00m abc \u001b[38;5;129;01min\u001b[39;00m abcd:\n\u001b[0;32m----> 7\u001b[0m     \u001b[38;5;28;01mif\u001b[39;00m \u001b[43mabc\u001b[49m\u001b[43m[\u001b[49m\u001b[38;5;124;43m\"\u001b[39;49m\u001b[38;5;124;43mname\u001b[39;49m\u001b[38;5;124;43m\"\u001b[39;49m\u001b[43m]\u001b[49m \u001b[38;5;241m==\u001b[39m \u001b[38;5;124m'\u001b[39m\u001b[38;5;124m112,9\u001b[39m\u001b[38;5;124m'\u001b[39m:\n\u001b[1;32m      8\u001b[0m         \u001b[38;5;28mprint\u001b[39m(abc)\n",
      "\u001b[0;31mKeyError\u001b[0m: 'name'"
     ]
    }
   ],
   "source": [
    "import csv\n",
    "with open(file = 'abcd.csv',encoding='utf-8') as file:\n",
    "    reader = csv.DictReader(file)\n",
    "    abcd: list = list(reader)\n",
    "\n",
    "for abc in abcd:\n",
    "    if abc[\"name\"] == '112,9':\n",
    "        print(abc)"
   ]
  }
 ],
 "metadata": {
  "kernelspec": {
   "display_name": "base",
   "language": "python",
   "name": "python3"
  },
  "language_info": {
   "codemirror_mode": {
    "name": "ipython",
    "version": 3
   },
   "file_extension": ".py",
   "mimetype": "text/x-python",
   "name": "python",
   "nbconvert_exporter": "python",
   "pygments_lexer": "ipython3",
   "version": "3.12.2"
  }
 },
 "nbformat": 4,
 "nbformat_minor": 2
}
