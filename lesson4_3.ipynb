{
 "cells": [
  {
   "cell_type": "code",
   "execution_count": null,
   "metadata": {
    "vscode": {
     "languageId": "plaintext"
    }
   },
   "outputs": [],
   "source": [
    "import csv\n",
    "with open(file = 'students.csv',encoding='utf-8') as file:\n",
    "    reader = csv.DictReader(file)\n",
    "    students: list = list(reader)\n",
    "\n",
    "for student in students:\n",
    "    if student[\"name\"] == 'students20':\n",
    "        print(student)"
   ]
  }
 ],
 "metadata": {
  "language_info": {
   "name": "python"
  }
 },
 "nbformat": 4,
 "nbformat_minor": 2
}
