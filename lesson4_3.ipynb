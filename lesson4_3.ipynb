{
 "cells": [
  {
   "cell_type": "code",
   "execution_count": 6,
   "metadata": {},
   "outputs": [
    {
     "name": "stdout",
     "output_type": "stream",
     "text": [
      "{'107': '110', '1': '1', '5393174': '3656726'}\n",
      "{'107': '110', '1': '2', '5393174': '2830324'}\n",
      "{'107': '110', '1': '3', '5393174': '4353836'}\n",
      "{'107': '110', '1': '4', '5393174': '4121798'}\n",
      "{'107': '110', '1': '5', '5393174': '2550620'}\n",
      "{'107': '110', '1': '6', '5393174': '491159'}\n",
      "{'107': '110', '1': '7', '5393174': '939949'}\n",
      "{'107': '110', '1': '8', '5393174': '1784847'}\n",
      "{'107': '110', '1': '9', '5393174': '2716892'}\n",
      "{'107': '110', '1': '10', '5393174': '3312237'}\n",
      "{'107': '110', '1': '11', '5393174': '3576813'}\n",
      "{'107': '110', '1': '12', '5393174': '3797212'}\n"
     ]
    }
   ],
   "source": [
    "import csv\n",
    "with open(file = 'abcd.csv',encoding='utf-8') as file:\n",
    "    reader = csv.DictReader(file)\n",
    "    abcd: list = list(reader)\n",
    "\n",
    "for abc in abcd:\n",
    "    if abc[\"107\"] == '110':\n",
    "        print(abc)"
   ]
  }
 ],
 "metadata": {
  "kernelspec": {
   "display_name": "base",
   "language": "python",
   "name": "python3"
  },
  "language_info": {
   "codemirror_mode": {
    "name": "ipython",
    "version": 3
   },
   "file_extension": ".py",
   "mimetype": "text/x-python",
   "name": "python",
   "nbconvert_exporter": "python",
   "pygments_lexer": "ipython3",
   "version": "3.12.2"
  }
 },
 "nbformat": 4,
 "nbformat_minor": 2
}
