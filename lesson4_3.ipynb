{
 "cells": [
  {
   "cell_type": "code",
   "execution_count": 9,
   "metadata": {},
   "outputs": [
    {
     "name": "stdout",
     "output_type": "stream",
     "text": [
      "[{'MONTH': '1', 'PEOPLE': '5393174', '\\ufeffYEAR': '107'},\n",
      " {'MONTH': '2', 'PEOPLE': '4313714', '\\ufeffYEAR': '107'},\n",
      " {'MONTH': '3', 'PEOPLE': '5897924', '\\ufeffYEAR': '107'},\n",
      " {'MONTH': '4', 'PEOPLE': '5413457', '\\ufeffYEAR': '107'},\n",
      " {'MONTH': '5', 'PEOPLE': '5770367', '\\ufeffYEAR': '107'},\n",
      " {'MONTH': '6', 'PEOPLE': '5283410', '\\ufeffYEAR': '107'},\n",
      " {'MONTH': '7', 'PEOPLE': '4080755', '\\ufeffYEAR': '107'},\n",
      " {'MONTH': '8', 'PEOPLE': '4125349', '\\ufeffYEAR': '107'},\n",
      " {'MONTH': '9', 'PEOPLE': '4766440', '\\ufeffYEAR': '107'},\n",
      " {'MONTH': '10', 'PEOPLE': '5299789', '\\ufeffYEAR': '107'},\n",
      " {'MONTH': '11', 'PEOPLE': '5085947', '\\ufeffYEAR': '107'},\n",
      " {'MONTH': '12', 'PEOPLE': '5103054', '\\ufeffYEAR': '107'},\n",
      " {'MONTH': '1', 'PEOPLE': '4649294', '\\ufeffYEAR': '108'},\n",
      " {'MONTH': '2', 'PEOPLE': '4066151', '\\ufeffYEAR': '108'},\n",
      " {'MONTH': '3', 'PEOPLE': '5029986', '\\ufeffYEAR': '108'},\n",
      " {'MONTH': '4', 'PEOPLE': '4862978', '\\ufeffYEAR': '108'},\n",
      " {'MONTH': '5', 'PEOPLE': '5086652', '\\ufeffYEAR': '108'},\n",
      " {'MONTH': '6', 'PEOPLE': '4300047', '\\ufeffYEAR': '108'},\n",
      " {'MONTH': '7', 'PEOPLE': '4488619', '\\ufeffYEAR': '108'},\n",
      " {'MONTH': '8', 'PEOPLE': '4390033', '\\ufeffYEAR': '108'},\n",
      " {'MONTH': '9', 'PEOPLE': '4634256', '\\ufeffYEAR': '108'},\n",
      " {'MONTH': '10', 'PEOPLE': '5153121', '\\ufeffYEAR': '108'},\n",
      " {'MONTH': '11', 'PEOPLE': '4954277', '\\ufeffYEAR': '108'},\n",
      " {'MONTH': '12', 'PEOPLE': '5106617', '\\ufeffYEAR': '108'},\n",
      " {'MONTH': '1', 'PEOPLE': '4426607', '\\ufeffYEAR': '109'},\n",
      " {'MONTH': '2', 'PEOPLE': '3477765', '\\ufeffYEAR': '109'},\n",
      " {'MONTH': '3', 'PEOPLE': '4072634', '\\ufeffYEAR': '109'},\n",
      " {'MONTH': '4', 'PEOPLE': '3462751', '\\ufeffYEAR': '109'},\n",
      " {'MONTH': '5', 'PEOPLE': '4058759', '\\ufeffYEAR': '109'},\n",
      " {'MONTH': '6', 'PEOPLE': '4001733', '\\ufeffYEAR': '109'},\n",
      " {'MONTH': '7', 'PEOPLE': '4032523', '\\ufeffYEAR': '109'},\n",
      " {'MONTH': '8', 'PEOPLE': '3928647', '\\ufeffYEAR': '109'},\n",
      " {'MONTH': '9', 'PEOPLE': '4480971', '\\ufeffYEAR': '109'},\n",
      " {'MONTH': '10', 'PEOPLE': '4460921', '\\ufeffYEAR': '109'},\n",
      " {'MONTH': '11', 'PEOPLE': '4516865', '\\ufeffYEAR': '109'},\n",
      " {'MONTH': '12', 'PEOPLE': '4617832', '\\ufeffYEAR': '109'},\n",
      " {'MONTH': '1', 'PEOPLE': '3656726', '\\ufeffYEAR': '110'},\n",
      " {'MONTH': '2', 'PEOPLE': '2830324', '\\ufeffYEAR': '110'},\n",
      " {'MONTH': '3', 'PEOPLE': '4353836', '\\ufeffYEAR': '110'},\n",
      " {'MONTH': '4', 'PEOPLE': '4121798', '\\ufeffYEAR': '110'},\n",
      " {'MONTH': '5', 'PEOPLE': '2550620', '\\ufeffYEAR': '110'},\n",
      " {'MONTH': '6', 'PEOPLE': '491159', '\\ufeffYEAR': '110'},\n",
      " {'MONTH': '7', 'PEOPLE': '939949', '\\ufeffYEAR': '110'},\n",
      " {'MONTH': '8', 'PEOPLE': '1784847', '\\ufeffYEAR': '110'},\n",
      " {'MONTH': '9', 'PEOPLE': '2716892', '\\ufeffYEAR': '110'},\n",
      " {'MONTH': '10', 'PEOPLE': '3312237', '\\ufeffYEAR': '110'},\n",
      " {'MONTH': '11', 'PEOPLE': '3576813', '\\ufeffYEAR': '110'},\n",
      " {'MONTH': '12', 'PEOPLE': '3797212', '\\ufeffYEAR': '110'},\n",
      " {'MONTH': '1', 'PEOPLE': '2686107', '\\ufeffYEAR': '111'},\n",
      " {'MONTH': '2', 'PEOPLE': '2250944', '\\ufeffYEAR': '111'},\n",
      " {'MONTH': '3', 'PEOPLE': '3622790', '\\ufeffYEAR': '111'},\n",
      " {'MONTH': '4', 'PEOPLE': '2813999', '\\ufeffYEAR': '111'},\n",
      " {'MONTH': '5', 'PEOPLE': '2089859', '\\ufeffYEAR': '111'},\n",
      " {'MONTH': '6', 'PEOPLE': '2346331', '\\ufeffYEAR': '111'},\n",
      " {'MONTH': '7', 'PEOPLE': '2568736', '\\ufeffYEAR': '111'},\n",
      " {'MONTH': '8', 'PEOPLE': '2756154', '\\ufeffYEAR': '111'},\n",
      " {'MONTH': '9', 'PEOPLE': '2918434', '\\ufeffYEAR': '111'},\n",
      " {'MONTH': '10', 'PEOPLE': '3122558', '\\ufeffYEAR': '111'},\n",
      " {'MONTH': '11', 'PEOPLE': '3078363', '\\ufeffYEAR': '111'},\n",
      " {'MONTH': '12', 'PEOPLE': '3173977', '\\ufeffYEAR': '111'},\n",
      " {'MONTH': '1', 'PEOPLE': '3182236', '\\ufeffYEAR': '112'},\n",
      " {'MONTH': '2', 'PEOPLE': '2581462', '\\ufeffYEAR': '112'},\n",
      " {'MONTH': '3', 'PEOPLE': '3617978', '\\ufeffYEAR': '112'},\n",
      " {'MONTH': '4', 'PEOPLE': '3152079', '\\ufeffYEAR': '112'},\n",
      " {'MONTH': '5', 'PEOPLE': '3306778', '\\ufeffYEAR': '112'},\n",
      " {'MONTH': '6', 'PEOPLE': '3028373', '\\ufeffYEAR': '112'},\n",
      " {'MONTH': '7', 'PEOPLE': '2889839', '\\ufeffYEAR': '112'},\n",
      " {'MONTH': '8', 'PEOPLE': '3280254', '\\ufeffYEAR': '112'},\n",
      " {'MONTH': '9', 'PEOPLE': '3324992', '\\ufeffYEAR': '112'},\n",
      " {'MONTH': '10', 'PEOPLE': '3503249', '\\ufeffYEAR': '112'},\n",
      " {'MONTH': '11', 'PEOPLE': '3544135', '\\ufeffYEAR': '112'},\n",
      " {'MONTH': '12', 'PEOPLE': '3559284', '\\ufeffYEAR': '112'},\n",
      " {'MONTH': '1', 'PEOPLE': '3307098', '\\ufeffYEAR': '113'},\n",
      " {'MONTH': '2', 'PEOPLE': '2823497', '\\ufeffYEAR': '113'},\n",
      " {'MONTH': '3', 'PEOPLE': '3463207', '\\ufeffYEAR': '113'},\n",
      " {'MONTH': '4', 'PEOPLE': '3274412', '\\ufeffYEAR': '113'},\n",
      " {'MONTH': '5', 'PEOPLE': '3604678', '\\ufeffYEAR': '113'},\n",
      " {'MONTH': '6', 'PEOPLE': '3053784', '\\ufeffYEAR': '113'},\n",
      " {'MONTH': '7', 'PEOPLE': '3042781', '\\ufeffYEAR': '113'},\n",
      " {'MONTH': '8', 'PEOPLE': '3125831', '\\ufeffYEAR': '113'},\n",
      " {'MONTH': '9', 'PEOPLE': '3281831', '\\ufeffYEAR': '113'},\n",
      " {'MONTH': '10', 'PEOPLE': '3267489', '\\ufeffYEAR': '113'},\n",
      " {'MONTH': '11', 'PEOPLE': '3497313', '\\ufeffYEAR': '113'}]\n"
     ]
    }
   ],
   "source": [
    "import csv\n",
    "from pprint import pprint\n",
    "with open(file = 'abcd.csv',encoding='utf-8') as file:\n",
    "    reader = csv.DictReader(file)\n",
    "    people = list(reader)\n",
    "    \n",
    "pprint(people)"
   ]
  },
  {
   "cell_type": "code",
   "execution_count": 12,
   "metadata": {},
   "outputs": [
    {
     "name": "stdout",
     "output_type": "stream",
     "text": [
      "{'\\ufeffYEAR': '110', 'MONTH': '1', 'PEOPLE': '3656726'}\n",
      "{'\\ufeffYEAR': '110', 'MONTH': '2', 'PEOPLE': '2830324'}\n",
      "{'\\ufeffYEAR': '110', 'MONTH': '3', 'PEOPLE': '4353836'}\n",
      "{'\\ufeffYEAR': '110', 'MONTH': '4', 'PEOPLE': '4121798'}\n",
      "{'\\ufeffYEAR': '110', 'MONTH': '5', 'PEOPLE': '2550620'}\n",
      "{'\\ufeffYEAR': '110', 'MONTH': '6', 'PEOPLE': '491159'}\n",
      "{'\\ufeffYEAR': '110', 'MONTH': '7', 'PEOPLE': '939949'}\n",
      "{'\\ufeffYEAR': '110', 'MONTH': '8', 'PEOPLE': '1784847'}\n",
      "{'\\ufeffYEAR': '110', 'MONTH': '9', 'PEOPLE': '2716892'}\n",
      "{'\\ufeffYEAR': '110', 'MONTH': '10', 'PEOPLE': '3312237'}\n",
      "{'\\ufeffYEAR': '110', 'MONTH': '11', 'PEOPLE': '3576813'}\n",
      "{'\\ufeffYEAR': '110', 'MONTH': '12', 'PEOPLE': '3797212'}\n"
     ]
    }
   ],
   "source": [
    "import csv\n",
    "with open(file = 'abcd.csv',encoding='utf-8') as file:\n",
    "    reader = csv.DictReader(file)\n",
    "    abcd: list = list(reader)\n",
    "\n",
    "for abc in abcd:\n",
    "    if abc[\"\\ufeffYEAR\"] == '110':\n",
    "        print(abc)"
   ]
  },
  {
   "cell_type": "code",
   "execution_count": 16,
   "metadata": {},
   "outputs": [
    {
     "name": "stdout",
     "output_type": "stream",
     "text": [
      "{'\\ufeffYEAR': '113', 'MONTH': '11', 'PEOPLE': '3497313'}\n"
     ]
    }
   ],
   "source": [
    "import csv\n",
    "with open(file = 'abcd.csv',encoding='utf-8') as file:\n",
    "    reader = csv.DictReader(file)\n",
    "    abcd: list = list(reader)\n",
    "\n",
    "for abc in abcd:\n",
    "    if abc[\"\\ufeffYEAR\"] == '113,11':\n",
    "        print(abc)\n",
    "print(abc)"
   ]
  },
  {
   "cell_type": "code",
   "execution_count": 5,
   "metadata": {},
   "outputs": [
    {
     "name": "stdout",
     "output_type": "stream",
     "text": [
      "{'YEAR': '107', 'MONTH': '9', 'PEOPLE': '4766440'}\n",
      "{'YEAR': '108', 'MONTH': '9', 'PEOPLE': '4634256'}\n",
      "{'YEAR': '109', 'MONTH': '9', 'PEOPLE': '4480971'}\n",
      "{'YEAR': '110', 'MONTH': '9', 'PEOPLE': '2716892'}\n",
      "{'YEAR': '111', 'MONTH': '9', 'PEOPLE': '2918434'}\n",
      "{'YEAR': '112', 'MONTH': '9', 'PEOPLE': '3324992'}\n",
      "{'YEAR': '113', 'MONTH': '9', 'PEOPLE': '3281831'}\n"
     ]
    }
   ],
   "source": [
    "import csv\n",
    "\n",
    "with open(file='abcd.csv', encoding='utf-8-sig') as file:\n",
    "    reader = csv.DictReader(file)\n",
    "    abcd: list = list(reader)\n",
    "\n",
    "for abc in abcd:\n",
    "    if abc[\"MONTH\"] == '9': \n",
    "        print(abc)"
   ]
  },
  {
   "cell_type": "code",
   "execution_count": null,
   "metadata": {},
   "outputs": [],
   "source": [
    "from urllib import response\n",
    "import requests\n",
    "\n",
    "url = 'https://tcgbusfs.blob.core.windows.net/dotapp/youbike/v2/youbike_immediate.json'\n",
    "\n",
    "try:\n",
    "    response = requests.get(url)\n",
    "    response.raise_for_status()\n",
    "    "
   ]
  },
  {
   "cell_type": "code",
   "execution_count": 24,
   "metadata": {},
   "outputs": [
    {
     "name": "stdout",
     "output_type": "stream",
     "text": [
      "出錯了:division by zero\n"
     ]
    }
   ],
   "source": [
    "try:\n",
    "    5/0\n",
    "except Exception as e:\n",
    "    print(f'出錯了:{e}')"
   ]
  }
 ],
 "metadata": {
  "kernelspec": {
   "display_name": "base",
   "language": "python",
   "name": "python3"
  },
  "language_info": {
   "codemirror_mode": {
    "name": "ipython",
    "version": 3
   },
   "file_extension": ".py",
   "mimetype": "text/x-python",
   "name": "python",
   "nbconvert_exporter": "python",
   "pygments_lexer": "ipython3",
   "version": "3.12.2"
  }
 },
 "nbformat": 4,
 "nbformat_minor": 2
}
