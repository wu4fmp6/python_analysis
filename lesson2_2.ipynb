{
 "cells": [
  {
   "cell_type": "code",
   "execution_count": 2,
   "metadata": {},
   "outputs": [
    {
     "name": "stdout",
     "output_type": "stream",
     "text": [
      "10\n",
      "20\n"
     ]
    }
   ],
   "source": [
    "print(2 *(1+2) ** 2 - 2** 2 * 2)\n",
    "print((2+3) * 4)"
   ]
  },
  {
   "cell_type": "code",
   "execution_count": 9,
   "metadata": {},
   "outputs": [
    {
     "name": "stdout",
     "output_type": "stream",
     "text": [
      "17\n"
     ]
    }
   ],
   "source": [
    "n = 1+5\n",
    "m = n+5\n",
    "\n",
    "m+n\n",
    "\n",
    "print(m+n)"
   ]
  },
  {
   "cell_type": "code",
   "execution_count": 5,
   "metadata": {},
   "outputs": [
    {
     "name": "stdout",
     "output_type": "stream",
     "text": [
      "<class 'str'>\n"
     ]
    }
   ],
   "source": [
    "x = input('請輸入x的值:')\n",
    "print(type(x))\n",
    "result = float(x)+10"
   ]
  },
  {
   "cell_type": "code",
   "execution_count": 11,
   "metadata": {},
   "outputs": [
    {
     "name": "stdout",
     "output_type": "stream",
     "text": [
      "4_8_90_hello.\n"
     ]
    }
   ],
   "source": [
    "redius = float(input('請輸入半徑:'))\n",
    "print(4,8,90,'hello',sep='_',end='.\\n')"
   ]
  },
  {
   "cell_type": "code",
   "execution_count": 12,
   "metadata": {},
   "outputs": [
    {
     "name": "stdout",
     "output_type": "stream",
     "text": [
      "4_8_90_hello.\n"
     ]
    }
   ],
   "source": [
    "redius = float(input('請輸入半徑:'))\n",
    "print(4,8,90,'hello',end='.\\n',sep='_')"
   ]
  },
  {
   "cell_type": "code",
   "execution_count": 7,
   "metadata": {},
   "outputs": [
    {
     "name": "stdout",
     "output_type": "stream",
     "text": [
      "半徑 49.64\n",
      "直徑 99.28\n",
      "圓周長 311.8970552\n",
      "圓面積 7741.2849100640005\n"
     ]
    }
   ],
   "source": [
    "radius = float(input(\"請輸入半徑:\"))\n",
    "diameter = 2*radius\n",
    "circumference = 2*3.14159*radius\n",
    "area = 3.14159*radius**2\n",
    "\n",
    "print(\"半徑\",radius)\n",
    "print(\"直徑\",diameter)\n",
    "print(\"圓周長\",circumference)\n",
    "print(\"圓面積\",area)"
   ]
  },
  {
   "cell_type": "code",
   "execution_count": 1,
   "metadata": {},
   "outputs": [
    {
     "name": "stdout",
     "output_type": "stream",
     "text": [
      "對邊: 3.1456\n",
      "鄰邊: 4.9872\n",
      "斜邊是 5.896351685576429\n"
     ]
    }
   ],
   "source": [
    "import math\n",
    "side = float (input('請輸入對邊:'))\n",
    "another_side = float (input('請輸入鄰邊:'))\n",
    "each_side = math.sqrt  (side **2 + another_side **2)\n",
    "print('對邊:',side)\n",
    "print(\"鄰邊:\",another_side)\n",
    "print(\"斜邊是\",each_side)"
   ]
  },
  {
   "cell_type": "code",
   "execution_count": 3,
   "metadata": {},
   "outputs": [
    {
     "name": "stdout",
     "output_type": "stream",
     "text": [
      "數據集 [2 4 4 4 5 5 7 9]\n",
      "標準差 2.0\n",
      "樣本標準差 2.138089935299395\n"
     ]
    }
   ],
   "source": [
    "import numpy as np\n",
    "\n",
    "data = np.array([2, 4, 4, 4, 5, 5, 7, 9])\n",
    "\n",
    "std_dev = np.std(data)\n",
    "\n",
    "print(\"數據集\",data)\n",
    "print(\"標準差\",std_dev)\n",
    "\n",
    "sample_std = np.std(data, ddof=1)\n",
    "print(\"樣本標準差\",sample_std)\n"
   ]
  }
 ],
 "metadata": {
  "kernelspec": {
   "display_name": "base",
   "language": "python",
   "name": "python3"
  },
  "language_info": {
   "codemirror_mode": {
    "name": "ipython",
    "version": 3
   },
   "file_extension": ".py",
   "mimetype": "text/x-python",
   "name": "python",
   "nbconvert_exporter": "python",
   "pygments_lexer": "ipython3",
   "version": "3.12.2"
  }
 },
 "nbformat": 4,
 "nbformat_minor": 2
}
