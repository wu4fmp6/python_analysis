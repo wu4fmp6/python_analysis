{
 "cells": [
  {
   "cell_type": "code",
   "execution_count": 4,
   "metadata": {},
   "outputs": [
    {
     "name": "stdout",
     "output_type": "stream",
     "text": [
      "Requirement already satisfied: jinja2 in /opt/conda/lib/python3.12/site-packages (3.1.6)\n",
      "Requirement already satisfied: MarkupSafe>=2.0 in /opt/conda/lib/python3.12/site-packages (from jinja2) (3.0.2)\n",
      "\u001b[33mWARNING: Running pip as the 'root' user can result in broken permissions and conflicting behaviour with the system package manager, possibly rendering your system unusable. It is recommended to use a virtual environment instead: https://pip.pypa.io/warnings/venv. Use the --root-user-action option if you know what you are doing and want to suppress this warning.\u001b[0m\u001b[33m\n",
      "\u001b[0m"
     ]
    }
   ],
   "source": [
    "!pip install jinja2"
   ]
  },
  {
   "cell_type": "code",
   "execution_count": 6,
   "metadata": {},
   "outputs": [
    {
     "data": {
      "text/html": [
       "<div>\n",
       "<style scoped>\n",
       "    .dataframe tbody tr th:only-of-type {\n",
       "        vertical-align: middle;\n",
       "    }\n",
       "\n",
       "    .dataframe tbody tr th {\n",
       "        vertical-align: top;\n",
       "    }\n",
       "\n",
       "    .dataframe thead th {\n",
       "        text-align: right;\n",
       "    }\n",
       "</style>\n",
       "<table border=\"1\" class=\"dataframe\">\n",
       "  <thead>\n",
       "    <tr style=\"text-align: right;\">\n",
       "      <th></th>\n",
       "      <th>strings</th>\n",
       "      <th>ints</th>\n",
       "      <th>floats</th>\n",
       "    </tr>\n",
       "  </thead>\n",
       "  <tbody>\n",
       "    <tr>\n",
       "      <th>0</th>\n",
       "      <td>Adam</td>\n",
       "      <td>1</td>\n",
       "      <td>1.123</td>\n",
       "    </tr>\n",
       "    <tr>\n",
       "      <th>1</th>\n",
       "      <td>Mike</td>\n",
       "      <td>3</td>\n",
       "      <td>1000.230</td>\n",
       "    </tr>\n",
       "  </tbody>\n",
       "</table>\n",
       "</div>"
      ],
      "text/plain": [
       "  strings  ints    floats\n",
       "0    Adam     1     1.123\n",
       "1    Mike     3  1000.230"
      ]
     },
     "execution_count": 6,
     "metadata": {},
     "output_type": "execute_result"
    }
   ],
   "source": [
    "import numpy as np\n",
    "import pandas as pd\n",
    "import matplotlib as mpl\n",
    "\n",
    "df = pd.DataFrame({\n",
    "    \"strings\": [\"Adam\", \"Mike\"],\n",
    "    \"ints\": [1, 3],\n",
    "    \"floats\": [1.123, 1000.23]\n",
    "})\n",
    "df"
   ]
  },
  {
   "cell_type": "markdown",
   "metadata": {},
   "source": [
    "#-format()\n",
    "#-format_index()"
   ]
  },
  {
   "cell_type": "code",
   "execution_count": 8,
   "metadata": {},
   "outputs": [
    {
     "data": {
      "text/html": [
       "<style type=\"text/css\">\n",
       "</style>\n",
       "<table id=\"T_0befc\">\n",
       "  <thead>\n",
       "    <tr>\n",
       "      <th class=\"blank level0\" >&nbsp;</th>\n",
       "      <th id=\"T_0befc_level0_col0\" class=\"col_heading level0 col0\" >STRINGS</th>\n",
       "      <th id=\"T_0befc_level0_col1\" class=\"col_heading level0 col1\" >INTS</th>\n",
       "      <th id=\"T_0befc_level0_col2\" class=\"col_heading level0 col2\" >FLOATS</th>\n",
       "    </tr>\n",
       "  </thead>\n",
       "  <tbody>\n",
       "    <tr>\n",
       "      <th id=\"T_0befc_level0_row0\" class=\"row_heading level0 row0\" >row1</th>\n",
       "      <td id=\"T_0befc_row0_col0\" class=\"data row0 col0\" >Adam</td>\n",
       "      <td id=\"T_0befc_row0_col1\" class=\"data row0 col1\" >1</td>\n",
       "      <td id=\"T_0befc_row0_col2\" class=\"data row0 col2\" >1,12</td>\n",
       "    </tr>\n",
       "    <tr>\n",
       "      <th id=\"T_0befc_level0_row1\" class=\"row_heading level0 row1\" >row2</th>\n",
       "      <td id=\"T_0befc_row1_col0\" class=\"data row1 col0\" >Mike</td>\n",
       "      <td id=\"T_0befc_row1_col1\" class=\"data row1 col1\" >3</td>\n",
       "      <td id=\"T_0befc_row1_col2\" class=\"data row1 col2\" >1,000,23</td>\n",
       "    </tr>\n",
       "  </tbody>\n",
       "</table>\n"
      ],
      "text/plain": [
       "<pandas.io.formats.style.Styler at 0x7fd70b61ea50>"
      ]
     },
     "execution_count": 8,
     "metadata": {},
     "output_type": "execute_result"
    }
   ],
   "source": [
    "df.style\\\n",
    ".format(\n",
    "    precision=2,\n",
    "    thousands=',',\n",
    "    decimal=','\n",
    "    ).format_index(axis=1,formatter=str.upper)\\\n",
    ".relabel_index([\"row1\",'row2'],axis=0)"
   ]
  },
  {
   "cell_type": "code",
   "execution_count": 9,
   "metadata": {},
   "outputs": [
    {
     "data": {
      "text/html": [
       "<div>\n",
       "<style scoped>\n",
       "    .dataframe tbody tr th:only-of-type {\n",
       "        vertical-align: middle;\n",
       "    }\n",
       "\n",
       "    .dataframe tbody tr th {\n",
       "        vertical-align: top;\n",
       "    }\n",
       "\n",
       "    .dataframe thead th {\n",
       "        text-align: right;\n",
       "    }\n",
       "</style>\n",
       "<table border=\"1\" class=\"dataframe\">\n",
       "  <thead>\n",
       "    <tr style=\"text-align: right;\">\n",
       "      <th></th>\n",
       "      <th>A</th>\n",
       "      <th>B</th>\n",
       "      <th>C</th>\n",
       "    </tr>\n",
       "  </thead>\n",
       "  <tbody>\n",
       "    <tr>\n",
       "      <th>0</th>\n",
       "      <td>1234.5678</td>\n",
       "      <td>0.1234</td>\n",
       "      <td>10</td>\n",
       "    </tr>\n",
       "    <tr>\n",
       "      <th>1</th>\n",
       "      <td>9876.5432</td>\n",
       "      <td>0.5678</td>\n",
       "      <td>20</td>\n",
       "    </tr>\n",
       "    <tr>\n",
       "      <th>2</th>\n",
       "      <td>NaN</td>\n",
       "      <td>0.9012</td>\n",
       "      <td>30</td>\n",
       "    </tr>\n",
       "  </tbody>\n",
       "</table>\n",
       "</div>"
      ],
      "text/plain": [
       "           A       B   C\n",
       "0  1234.5678  0.1234  10\n",
       "1  9876.5432  0.5678  20\n",
       "2        NaN  0.9012  30"
      ]
     },
     "execution_count": 9,
     "metadata": {},
     "output_type": "execute_result"
    }
   ],
   "source": [
    "import pandas as pd\n",
    "import numpy as np\n",
    "\n",
    "# 建立一個範例 DataFrame\n",
    "data = {'A': [1234.5678, 9876.5432, np.nan],\n",
    "        'B': [0.1234, 0.5678, 0.9012],\n",
    "        'C': [10, 20, 30]}\n",
    "df = pd.DataFrame(data)\n",
    "df"
   ]
  },
  {
   "cell_type": "code",
   "execution_count": 11,
   "metadata": {},
   "outputs": [
    {
     "data": {
      "text/html": [
       "<style type=\"text/css\">\n",
       "</style>\n",
       "<table id=\"T_b5749\">\n",
       "  <thead>\n",
       "    <tr>\n",
       "      <th class=\"blank level0\" >&nbsp;</th>\n",
       "      <th id=\"T_b5749_level0_col0\" class=\"col_heading level0 col0\" >A</th>\n",
       "      <th id=\"T_b5749_level0_col1\" class=\"col_heading level0 col1\" >B</th>\n",
       "      <th id=\"T_b5749_level0_col2\" class=\"col_heading level0 col2\" >C</th>\n",
       "    </tr>\n",
       "  </thead>\n",
       "  <tbody>\n",
       "    <tr>\n",
       "      <th id=\"T_b5749_level0_row0\" class=\"row_heading level0 row0\" >0</th>\n",
       "      <td id=\"T_b5749_row0_col0\" class=\"data row0 col0\" >1234.57</td>\n",
       "      <td id=\"T_b5749_row0_col1\" class=\"data row0 col1\" >0.12</td>\n",
       "      <td id=\"T_b5749_row0_col2\" class=\"data row0 col2\" >10</td>\n",
       "    </tr>\n",
       "    <tr>\n",
       "      <th id=\"T_b5749_level0_row1\" class=\"row_heading level0 row1\" >1</th>\n",
       "      <td id=\"T_b5749_row1_col0\" class=\"data row1 col0\" >9876.54</td>\n",
       "      <td id=\"T_b5749_row1_col1\" class=\"data row1 col1\" >0.57</td>\n",
       "      <td id=\"T_b5749_row1_col2\" class=\"data row1 col2\" >20</td>\n",
       "    </tr>\n",
       "    <tr>\n",
       "      <th id=\"T_b5749_level0_row2\" class=\"row_heading level0 row2\" >2</th>\n",
       "      <td id=\"T_b5749_row2_col0\" class=\"data row2 col0\" >nan</td>\n",
       "      <td id=\"T_b5749_row2_col1\" class=\"data row2 col1\" >0.90</td>\n",
       "      <td id=\"T_b5749_row2_col2\" class=\"data row2 col2\" >30</td>\n",
       "    </tr>\n",
       "  </tbody>\n",
       "</table>\n"
      ],
      "text/plain": [
       "<pandas.io.formats.style.Styler at 0x7fd70b692d80>"
      ]
     },
     "execution_count": 11,
     "metadata": {},
     "output_type": "execute_result"
    }
   ],
   "source": [
    "df1 = df.style.format(\"{:.2f}\",subset=['A','B'])\n",
    "df1"
   ]
  },
  {
   "cell_type": "code",
   "execution_count": 13,
   "metadata": {},
   "outputs": [
    {
     "data": {
      "text/html": [
       "<style type=\"text/css\">\n",
       "#T_099a2_row0_col0 {\n",
       "  background-color: #70acd1;\n",
       "  color: #f1f1f1;\n",
       "}\n",
       "#T_099a2_row0_col1 {\n",
       "  background-color: #208aa9;\n",
       "  color: #f1f1f1;\n",
       "}\n",
       "#T_099a2_row1_col0 {\n",
       "  background-color: #11859a;\n",
       "  color: #f1f1f1;\n",
       "}\n",
       "#T_099a2_row1_col1, #T_099a2_row2_col1 {\n",
       "  background-color: #338fbd;\n",
       "  color: #f1f1f1;\n",
       "}\n",
       "#T_099a2_row2_col0 {\n",
       "  background-color: #519ec8;\n",
       "  color: #f1f1f1;\n",
       "}\n",
       "#T_099a2_row3_col0 {\n",
       "  background-color: #f4ebf5;\n",
       "  color: #000000;\n",
       "}\n",
       "#T_099a2_row3_col1 {\n",
       "  background-color: #2b8db5;\n",
       "  color: #f1f1f1;\n",
       "}\n",
       "#T_099a2_row4_col0 {\n",
       "  background-color: #62a6cd;\n",
       "  color: #f1f1f1;\n",
       "}\n",
       "#T_099a2_row4_col1 {\n",
       "  background-color: #63a7ce;\n",
       "  color: #f1f1f1;\n",
       "}\n",
       "#T_099a2_row5_col0 {\n",
       "  background-color: #1b88a4;\n",
       "  color: #f1f1f1;\n",
       "}\n",
       "#T_099a2_row5_col1 {\n",
       "  background-color: #ced0e6;\n",
       "  color: #000000;\n",
       "}\n",
       "#T_099a2_row6_col0, #T_099a2_row8_col0, #T_099a2_row8_col1, #T_099a2_row9_col1 {\n",
       "  background-color: #fff7fb;\n",
       "  color: #000000;\n",
       "}\n",
       "#T_099a2_row6_col1 {\n",
       "  background-color: #b8c6e0;\n",
       "  color: #000000;\n",
       "}\n",
       "#T_099a2_row7_col0 {\n",
       "  background-color: #99b9d9;\n",
       "  color: #000000;\n",
       "}\n",
       "#T_099a2_row7_col1 {\n",
       "  background-color: #fef6fb;\n",
       "  color: #000000;\n",
       "}\n",
       "#T_099a2_row9_col0 {\n",
       "  background-color: #02818a;\n",
       "  color: #f1f1f1;\n",
       "}\n",
       "</style>\n",
       "<table id=\"T_099a2\">\n",
       "  <caption>Weather Conditions</caption>\n",
       "  <thead>\n",
       "    <tr>\n",
       "      <th class=\"blank level0\" >&nbsp;</th>\n",
       "      <th id=\"T_099a2_level0_col0\" class=\"col_heading level0 col0\" >Tokyo</th>\n",
       "      <th id=\"T_099a2_level0_col1\" class=\"col_heading level0 col1\" >Taipei</th>\n",
       "    </tr>\n",
       "  </thead>\n",
       "  <tbody>\n",
       "    <tr>\n",
       "      <th id=\"T_099a2_level0_row0\" class=\"row_heading level0 row0\" >2021-01-01 00:00:00</th>\n",
       "      <td id=\"T_099a2_row0_col0\" class=\"data row0 col0\" >2.927406</td>\n",
       "      <td id=\"T_099a2_row0_col1\" class=\"data row0 col1\" >3.712938</td>\n",
       "    </tr>\n",
       "    <tr>\n",
       "      <th id=\"T_099a2_level0_row1\" class=\"row_heading level0 row1\" >2021-01-02 00:00:00</th>\n",
       "      <td id=\"T_099a2_row1_col0\" class=\"data row1 col0\" >3.853106</td>\n",
       "      <td id=\"T_099a2_row1_col1\" class=\"data row1 col1\" >3.516327</td>\n",
       "    </tr>\n",
       "    <tr>\n",
       "      <th id=\"T_099a2_level0_row2\" class=\"row_heading level0 row2\" >2021-01-03 00:00:00</th>\n",
       "      <td id=\"T_099a2_row2_col0\" class=\"data row2 col0\" >3.219115</td>\n",
       "      <td id=\"T_099a2_row2_col1\" class=\"data row2 col1\" >3.526248</td>\n",
       "    </tr>\n",
       "    <tr>\n",
       "      <th id=\"T_099a2_level0_row3\" class=\"row_heading level0 row3\" >2021-01-04 00:00:00</th>\n",
       "      <td id=\"T_099a2_row3_col0\" class=\"data row3 col0\" >1.282914</td>\n",
       "      <td id=\"T_099a2_row3_col1\" class=\"data row3 col1\" >3.608745</td>\n",
       "    </tr>\n",
       "    <tr>\n",
       "      <th id=\"T_099a2_level0_row4\" class=\"row_heading level0 row4\" >2021-01-05 00:00:00</th>\n",
       "      <td id=\"T_099a2_row4_col0\" class=\"data row4 col0\" >3.059283</td>\n",
       "      <td id=\"T_099a2_row4_col1\" class=\"data row4 col1\" >3.033179</td>\n",
       "    </tr>\n",
       "    <tr>\n",
       "      <th id=\"T_099a2_level0_row5\" class=\"row_heading level0 row5\" >2021-01-06 00:00:00</th>\n",
       "      <td id=\"T_099a2_row5_col0\" class=\"data row5 col0\" >3.751069</td>\n",
       "      <td id=\"T_099a2_row5_col1\" class=\"data row5 col1\" >2.030779</td>\n",
       "    </tr>\n",
       "    <tr>\n",
       "      <th id=\"T_099a2_level0_row6\" class=\"row_heading level0 row6\" >2021-01-07 00:00:00</th>\n",
       "      <td id=\"T_099a2_row6_col0\" class=\"data row6 col0\" >0.628683</td>\n",
       "      <td id=\"T_099a2_row6_col1\" class=\"data row6 col1\" >2.287851</td>\n",
       "    </tr>\n",
       "    <tr>\n",
       "      <th id=\"T_099a2_level0_row7\" class=\"row_heading level0 row7\" >2021-01-08 00:00:00</th>\n",
       "      <td id=\"T_099a2_row7_col0\" class=\"data row7 col0\" >2.604823</td>\n",
       "      <td id=\"T_099a2_row7_col1\" class=\"data row7 col1\" >1.021631</td>\n",
       "    </tr>\n",
       "    <tr>\n",
       "      <th id=\"T_099a2_level0_row8\" class=\"row_heading level0 row8\" >2021-01-09 00:00:00</th>\n",
       "      <td id=\"T_099a2_row8_col0\" class=\"data row8 col0\" >0.078126</td>\n",
       "      <td id=\"T_099a2_row8_col1\" class=\"data row8 col1\" >0.135570</td>\n",
       "    </tr>\n",
       "    <tr>\n",
       "      <th id=\"T_099a2_level0_row9\" class=\"row_heading level0 row9\" >2021-01-10 00:00:00</th>\n",
       "      <td id=\"T_099a2_row9_col0\" class=\"data row9 col0\" >3.987047</td>\n",
       "      <td id=\"T_099a2_row9_col1\" class=\"data row9 col1\" >0.944771</td>\n",
       "    </tr>\n",
       "  </tbody>\n",
       "</table>\n"
      ],
      "text/plain": [
       "<pandas.io.formats.style.Styler at 0x7fd70b65ee10>"
      ]
     },
     "execution_count": 13,
     "metadata": {},
     "output_type": "execute_result"
    }
   ],
   "source": [
    "weather_df = pd.DataFrame(np.random.rand(10,2)*5,\n",
    "                        index=pd.date_range(start=\"2021-01-01\", periods=10),\n",
    "                        columns=[\"Tokyo\", \"Taipei\"])\n",
    "weather_df.style\\\n",
    ".set_caption(\"Weather Conditions\")\\\n",
    ".background_gradient(axis=None,vmin=1,vmax=5,cmap='PuBuGn')"
   ]
  }
 ],
 "metadata": {
  "kernelspec": {
   "display_name": "base",
   "language": "python",
   "name": "python3"
  },
  "language_info": {
   "codemirror_mode": {
    "name": "ipython",
    "version": 3
   },
   "file_extension": ".py",
   "mimetype": "text/x-python",
   "name": "python",
   "nbconvert_exporter": "python",
   "pygments_lexer": "ipython3",
   "version": "3.12.9"
  }
 },
 "nbformat": 4,
 "nbformat_minor": 2
}
