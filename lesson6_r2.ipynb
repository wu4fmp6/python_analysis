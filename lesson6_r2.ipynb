{
 "cells": [
  {
   "cell_type": "code",
   "execution_count": null,
   "metadata": {},
   "outputs": [],
   "source": [
    "from locale import currency\n",
    "from pprint import pprint\n",
    "soup = BeautifulSoup(response.text,\"html.parser\")\n",
    "\n",
    "# 尋找帶有特定 title 屬性的表格\n",
    "rate_table = soup.find('table',{'title':'牌告匯率'})\n",
    "# 取得所有幣別和現金匯率資料\n",
    "currency_raw = rate_table.tbody.find_all('tr')# 跳過表頭行\n",
    "\n",
    "rates:list[dict] = []\n",
    "\n",
    "for row in currency_raw:\n",
    "    currency_dict = {}\n",
    "    # 取得幣別名稱 (移除多餘空白)\n",
    "    currency = row.find(\"td\", attrs={\"data-table\":\"幣別\"}).find(\"div\",class_=\"visible-phone\").text.strip()\n",
    "    currency_dict[\"幣別\"] = currency\n",
    "    # 取得現金買入匯率\n",
    "    currency_get = row.find(\"td\", attrs={\"data-table\":\"本行現金買入\"}).text.strip()\n",
    "    currency_dict[\"現金買入\"] = currency_get\n",
    "    # 取得即期賣出匯率\n",
    "    currency_sent = row.find(\"td\", attrs={\"data-table\":\"本行現金賣出\"}).text.strip()\n",
    "    currency_dict[\"現金賣出\"] = currency_sent\n",
    "    rates.append(currency_dict)\n",
    "pprint(rates)"
   ]
  }
 ],
 "metadata": {
  "language_info": {
   "name": "python"
  }
 },
 "nbformat": 4,
 "nbformat_minor": 2
}
